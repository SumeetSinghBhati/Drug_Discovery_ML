{
  "cells": [
    {
      "cell_type": "markdown",
      "metadata": {
        "colab_type": "text",
        "id": "l0Y7_lgN4jzM"
      },
      "source": [
        "# **Bioinformatics Project - Computational Drug Discovery [Part 2] Exploratory Data Analysis**\n",
        "\n",
        "In **Part 2**, we will be performing Descriptor Calculation and Exploratory Data Analysis.\n",
        "\n",
        "---"
      ]
    },
    {
      "cell_type": "markdown",
      "metadata": {
        "colab_type": "text",
        "id": "o-4IOizard4P"
      },
      "source": [
        "## **Install conda and rdkit**"
      ]
    },
    {
      "cell_type": "markdown",
      "metadata": {
        "colab_type": "text",
        "id": "QmxXXFa4wTNG"
      },
      "source": [
        "## **Load bioactivity data**"
      ]
    },
    {
      "cell_type": "code",
      "execution_count": 1,
      "metadata": {
        "colab": {},
        "colab_type": "code",
        "id": "Fpu5C7HlwV9s"
      },
      "outputs": [],
      "source": [
        "import pandas as pd"
      ]
    },
    {
      "cell_type": "code",
      "execution_count": 2,
      "metadata": {
        "colab": {
          "base_uri": "https://localhost:8080/",
          "height": 419
        },
        "colab_type": "code",
        "id": "GCcE8J5XwjtB",
        "outputId": "40a10f00-3d5f-4835-fdf8-2cb5acd8683c"
      },
      "outputs": [
        {
          "data": {
            "text/html": [
              "<div>\n",
              "<style scoped>\n",
              "    .dataframe tbody tr th:only-of-type {\n",
              "        vertical-align: middle;\n",
              "    }\n",
              "\n",
              "    .dataframe tbody tr th {\n",
              "        vertical-align: top;\n",
              "    }\n",
              "\n",
              "    .dataframe thead th {\n",
              "        text-align: right;\n",
              "    }\n",
              "</style>\n",
              "<table border=\"1\" class=\"dataframe\">\n",
              "  <thead>\n",
              "    <tr style=\"text-align: right;\">\n",
              "      <th></th>\n",
              "      <th>molecule_chembl_id</th>\n",
              "      <th>canonical_smiles</th>\n",
              "      <th>standard_value</th>\n",
              "      <th>class</th>\n",
              "    </tr>\n",
              "  </thead>\n",
              "  <tbody>\n",
              "    <tr>\n",
              "      <th>0</th>\n",
              "      <td>CHEMBL133897</td>\n",
              "      <td>CCOc1nn(-c2cccc(OCc3ccccc3)c2)c(=O)o1</td>\n",
              "      <td>920.0</td>\n",
              "      <td>active</td>\n",
              "    </tr>\n",
              "    <tr>\n",
              "      <th>1</th>\n",
              "      <td>CHEMBL336398</td>\n",
              "      <td>O=C(N1CCCCC1)n1nc(-c2ccc(Cl)cc2)nc1SCC1CC1</td>\n",
              "      <td>900.0</td>\n",
              "      <td>active</td>\n",
              "    </tr>\n",
              "    <tr>\n",
              "      <th>2</th>\n",
              "      <td>CHEMBL131588</td>\n",
              "      <td>CN(C(=O)n1nc(-c2ccc(Cl)cc2)nc1SCC(F)(F)F)c1ccccc1</td>\n",
              "      <td>50000.0</td>\n",
              "      <td>inactive</td>\n",
              "    </tr>\n",
              "    <tr>\n",
              "      <th>3</th>\n",
              "      <td>CHEMBL130628</td>\n",
              "      <td>O=C(N1CCCCC1)n1nc(-c2ccc(Cl)cc2)nc1SCC(F)(F)F</td>\n",
              "      <td>1000.0</td>\n",
              "      <td>active</td>\n",
              "    </tr>\n",
              "    <tr>\n",
              "      <th>4</th>\n",
              "      <td>CHEMBL130478</td>\n",
              "      <td>CSc1nc(-c2ccc(OC(F)(F)F)cc2)nn1C(=O)N(C)C</td>\n",
              "      <td>200.0</td>\n",
              "      <td>active</td>\n",
              "    </tr>\n",
              "    <tr>\n",
              "      <th>...</th>\n",
              "      <td>...</td>\n",
              "      <td>...</td>\n",
              "      <td>...</td>\n",
              "      <td>...</td>\n",
              "    </tr>\n",
              "    <tr>\n",
              "      <th>3847</th>\n",
              "      <td>CHEMBL5270598</td>\n",
              "      <td>O=C1CC2CCc3ccsc3C2=NN1CN1CCN(Cc2ccccc2)CC1</td>\n",
              "      <td>5580.0</td>\n",
              "      <td>intermediate</td>\n",
              "    </tr>\n",
              "    <tr>\n",
              "      <th>3848</th>\n",
              "      <td>CHEMBL5285633</td>\n",
              "      <td>O=C1CC2CCCc3ccsc3C2=NN1CCCCN1CCN(Cc2ccccc2)CC1</td>\n",
              "      <td>4130.0</td>\n",
              "      <td>intermediate</td>\n",
              "    </tr>\n",
              "    <tr>\n",
              "      <th>3849</th>\n",
              "      <td>CHEMBL5283494</td>\n",
              "      <td>O=C1CC2CCc3ccsc3C2=NN1CCN1CCN(Cc2ccccc2)CC1</td>\n",
              "      <td>5110.0</td>\n",
              "      <td>intermediate</td>\n",
              "    </tr>\n",
              "    <tr>\n",
              "      <th>3850</th>\n",
              "      <td>CHEMBL5283557</td>\n",
              "      <td>O=C1CC2CCc3ccsc3C2=NN1Cc1ccc(CN2CCN(Cc3ccccc3)...</td>\n",
              "      <td>9700.0</td>\n",
              "      <td>intermediate</td>\n",
              "    </tr>\n",
              "    <tr>\n",
              "      <th>3851</th>\n",
              "      <td>CHEMBL5288465</td>\n",
              "      <td>O=C1CC2CCc3sccc3C2=NN1CCCCN1CCN(Cc2ccccc2)CC1</td>\n",
              "      <td>3300.0</td>\n",
              "      <td>intermediate</td>\n",
              "    </tr>\n",
              "  </tbody>\n",
              "</table>\n",
              "<p>3852 rows × 4 columns</p>\n",
              "</div>"
            ],
            "text/plain": [
              "     molecule_chembl_id                                   canonical_smiles  \\\n",
              "0          CHEMBL133897              CCOc1nn(-c2cccc(OCc3ccccc3)c2)c(=O)o1   \n",
              "1          CHEMBL336398         O=C(N1CCCCC1)n1nc(-c2ccc(Cl)cc2)nc1SCC1CC1   \n",
              "2          CHEMBL131588  CN(C(=O)n1nc(-c2ccc(Cl)cc2)nc1SCC(F)(F)F)c1ccccc1   \n",
              "3          CHEMBL130628      O=C(N1CCCCC1)n1nc(-c2ccc(Cl)cc2)nc1SCC(F)(F)F   \n",
              "4          CHEMBL130478          CSc1nc(-c2ccc(OC(F)(F)F)cc2)nn1C(=O)N(C)C   \n",
              "...                 ...                                                ...   \n",
              "3847      CHEMBL5270598         O=C1CC2CCc3ccsc3C2=NN1CN1CCN(Cc2ccccc2)CC1   \n",
              "3848      CHEMBL5285633     O=C1CC2CCCc3ccsc3C2=NN1CCCCN1CCN(Cc2ccccc2)CC1   \n",
              "3849      CHEMBL5283494        O=C1CC2CCc3ccsc3C2=NN1CCN1CCN(Cc2ccccc2)CC1   \n",
              "3850      CHEMBL5283557  O=C1CC2CCc3ccsc3C2=NN1Cc1ccc(CN2CCN(Cc3ccccc3)...   \n",
              "3851      CHEMBL5288465      O=C1CC2CCc3sccc3C2=NN1CCCCN1CCN(Cc2ccccc2)CC1   \n",
              "\n",
              "      standard_value         class  \n",
              "0              920.0        active  \n",
              "1              900.0        active  \n",
              "2            50000.0      inactive  \n",
              "3             1000.0        active  \n",
              "4              200.0        active  \n",
              "...              ...           ...  \n",
              "3847          5580.0  intermediate  \n",
              "3848          4130.0  intermediate  \n",
              "3849          5110.0  intermediate  \n",
              "3850          9700.0  intermediate  \n",
              "3851          3300.0  intermediate  \n",
              "\n",
              "[3852 rows x 4 columns]"
            ]
          },
          "execution_count": 2,
          "metadata": {},
          "output_type": "execute_result"
        }
      ],
      "source": [
        "df = pd.read_csv('Butyrylcholinesterase_03_bioactivity_data_curated.csv')\n",
        "df"
      ]
    },
    {
      "cell_type": "code",
      "execution_count": 3,
      "metadata": {
        "colab": {},
        "colab_type": "code",
        "id": "7AMm19NW0bJR"
      },
      "outputs": [],
      "source": [
        "df_no_smiles = df.drop(columns='canonical_smiles')"
      ]
    },
    {
      "cell_type": "code",
      "execution_count": 4,
      "metadata": {
        "colab": {},
        "colab_type": "code",
        "id": "aymiQsfdr5sY"
      },
      "outputs": [],
      "source": [
        "smiles = []\n",
        "\n",
        "for i in df.canonical_smiles.tolist():\n",
        "  cpd = str(i).split('.')\n",
        "  cpd_longest = max(cpd, key = len)\n",
        "  smiles.append(cpd_longest)\n",
        "\n",
        "smiles = pd.Series(smiles, name = 'canonical_smiles')"
      ]
    },
    {
      "cell_type": "code",
      "execution_count": 5,
      "metadata": {
        "colab": {
          "base_uri": "https://localhost:8080/",
          "height": 419
        },
        "colab_type": "code",
        "id": "l7a8qW_U85ZK",
        "outputId": "9e073a51-20d4-489c-b1f7-6a44d140c22b"
      },
      "outputs": [
        {
          "data": {
            "text/html": [
              "<div>\n",
              "<style scoped>\n",
              "    .dataframe tbody tr th:only-of-type {\n",
              "        vertical-align: middle;\n",
              "    }\n",
              "\n",
              "    .dataframe tbody tr th {\n",
              "        vertical-align: top;\n",
              "    }\n",
              "\n",
              "    .dataframe thead th {\n",
              "        text-align: right;\n",
              "    }\n",
              "</style>\n",
              "<table border=\"1\" class=\"dataframe\">\n",
              "  <thead>\n",
              "    <tr style=\"text-align: right;\">\n",
              "      <th></th>\n",
              "      <th>molecule_chembl_id</th>\n",
              "      <th>standard_value</th>\n",
              "      <th>class</th>\n",
              "      <th>canonical_smiles</th>\n",
              "    </tr>\n",
              "  </thead>\n",
              "  <tbody>\n",
              "    <tr>\n",
              "      <th>0</th>\n",
              "      <td>CHEMBL133897</td>\n",
              "      <td>920.0</td>\n",
              "      <td>active</td>\n",
              "      <td>CCOc1nn(-c2cccc(OCc3ccccc3)c2)c(=O)o1</td>\n",
              "    </tr>\n",
              "    <tr>\n",
              "      <th>1</th>\n",
              "      <td>CHEMBL336398</td>\n",
              "      <td>900.0</td>\n",
              "      <td>active</td>\n",
              "      <td>O=C(N1CCCCC1)n1nc(-c2ccc(Cl)cc2)nc1SCC1CC1</td>\n",
              "    </tr>\n",
              "    <tr>\n",
              "      <th>2</th>\n",
              "      <td>CHEMBL131588</td>\n",
              "      <td>50000.0</td>\n",
              "      <td>inactive</td>\n",
              "      <td>CN(C(=O)n1nc(-c2ccc(Cl)cc2)nc1SCC(F)(F)F)c1ccccc1</td>\n",
              "    </tr>\n",
              "    <tr>\n",
              "      <th>3</th>\n",
              "      <td>CHEMBL130628</td>\n",
              "      <td>1000.0</td>\n",
              "      <td>active</td>\n",
              "      <td>O=C(N1CCCCC1)n1nc(-c2ccc(Cl)cc2)nc1SCC(F)(F)F</td>\n",
              "    </tr>\n",
              "    <tr>\n",
              "      <th>4</th>\n",
              "      <td>CHEMBL130478</td>\n",
              "      <td>200.0</td>\n",
              "      <td>active</td>\n",
              "      <td>CSc1nc(-c2ccc(OC(F)(F)F)cc2)nn1C(=O)N(C)C</td>\n",
              "    </tr>\n",
              "    <tr>\n",
              "      <th>...</th>\n",
              "      <td>...</td>\n",
              "      <td>...</td>\n",
              "      <td>...</td>\n",
              "      <td>...</td>\n",
              "    </tr>\n",
              "    <tr>\n",
              "      <th>3847</th>\n",
              "      <td>CHEMBL5270598</td>\n",
              "      <td>5580.0</td>\n",
              "      <td>intermediate</td>\n",
              "      <td>O=C1CC2CCc3ccsc3C2=NN1CN1CCN(Cc2ccccc2)CC1</td>\n",
              "    </tr>\n",
              "    <tr>\n",
              "      <th>3848</th>\n",
              "      <td>CHEMBL5285633</td>\n",
              "      <td>4130.0</td>\n",
              "      <td>intermediate</td>\n",
              "      <td>O=C1CC2CCCc3ccsc3C2=NN1CCCCN1CCN(Cc2ccccc2)CC1</td>\n",
              "    </tr>\n",
              "    <tr>\n",
              "      <th>3849</th>\n",
              "      <td>CHEMBL5283494</td>\n",
              "      <td>5110.0</td>\n",
              "      <td>intermediate</td>\n",
              "      <td>O=C1CC2CCc3ccsc3C2=NN1CCN1CCN(Cc2ccccc2)CC1</td>\n",
              "    </tr>\n",
              "    <tr>\n",
              "      <th>3850</th>\n",
              "      <td>CHEMBL5283557</td>\n",
              "      <td>9700.0</td>\n",
              "      <td>intermediate</td>\n",
              "      <td>O=C1CC2CCc3ccsc3C2=NN1Cc1ccc(CN2CCN(Cc3ccccc3)...</td>\n",
              "    </tr>\n",
              "    <tr>\n",
              "      <th>3851</th>\n",
              "      <td>CHEMBL5288465</td>\n",
              "      <td>3300.0</td>\n",
              "      <td>intermediate</td>\n",
              "      <td>O=C1CC2CCc3sccc3C2=NN1CCCCN1CCN(Cc2ccccc2)CC1</td>\n",
              "    </tr>\n",
              "  </tbody>\n",
              "</table>\n",
              "<p>3852 rows × 4 columns</p>\n",
              "</div>"
            ],
            "text/plain": [
              "     molecule_chembl_id  standard_value         class  \\\n",
              "0          CHEMBL133897           920.0        active   \n",
              "1          CHEMBL336398           900.0        active   \n",
              "2          CHEMBL131588         50000.0      inactive   \n",
              "3          CHEMBL130628          1000.0        active   \n",
              "4          CHEMBL130478           200.0        active   \n",
              "...                 ...             ...           ...   \n",
              "3847      CHEMBL5270598          5580.0  intermediate   \n",
              "3848      CHEMBL5285633          4130.0  intermediate   \n",
              "3849      CHEMBL5283494          5110.0  intermediate   \n",
              "3850      CHEMBL5283557          9700.0  intermediate   \n",
              "3851      CHEMBL5288465          3300.0  intermediate   \n",
              "\n",
              "                                       canonical_smiles  \n",
              "0                 CCOc1nn(-c2cccc(OCc3ccccc3)c2)c(=O)o1  \n",
              "1            O=C(N1CCCCC1)n1nc(-c2ccc(Cl)cc2)nc1SCC1CC1  \n",
              "2     CN(C(=O)n1nc(-c2ccc(Cl)cc2)nc1SCC(F)(F)F)c1ccccc1  \n",
              "3         O=C(N1CCCCC1)n1nc(-c2ccc(Cl)cc2)nc1SCC(F)(F)F  \n",
              "4             CSc1nc(-c2ccc(OC(F)(F)F)cc2)nn1C(=O)N(C)C  \n",
              "...                                                 ...  \n",
              "3847         O=C1CC2CCc3ccsc3C2=NN1CN1CCN(Cc2ccccc2)CC1  \n",
              "3848     O=C1CC2CCCc3ccsc3C2=NN1CCCCN1CCN(Cc2ccccc2)CC1  \n",
              "3849        O=C1CC2CCc3ccsc3C2=NN1CCN1CCN(Cc2ccccc2)CC1  \n",
              "3850  O=C1CC2CCc3ccsc3C2=NN1Cc1ccc(CN2CCN(Cc3ccccc3)...  \n",
              "3851      O=C1CC2CCc3sccc3C2=NN1CCCCN1CCN(Cc2ccccc2)CC1  \n",
              "\n",
              "[3852 rows x 4 columns]"
            ]
          },
          "execution_count": 5,
          "metadata": {},
          "output_type": "execute_result"
        }
      ],
      "source": [
        "df_clean_smiles = pd.concat([df_no_smiles,smiles], axis=1)\n",
        "df_clean_smiles"
      ]
    },
    {
      "cell_type": "code",
      "execution_count": 6,
      "metadata": {},
      "outputs": [
        {
          "name": "stdout",
          "output_type": "stream",
          "text": [
            "c:\\Users\\sumee\\anaconda3\\python.exe\n"
          ]
        }
      ],
      "source": [
        "import sys\n",
        "print(sys.executable)\n"
      ]
    },
    {
      "cell_type": "code",
      "execution_count": 7,
      "metadata": {},
      "outputs": [
        {
          "name": "stdout",
          "output_type": "stream",
          "text": [
            "Requirement already satisfied: rdkit-pypi in c:\\users\\sumee\\anaconda3\\lib\\site-packages (2022.9.5)\n",
            "Requirement already satisfied: numpy in c:\\users\\sumee\\anaconda3\\lib\\site-packages (from rdkit-pypi) (1.24.3)\n",
            "Requirement already satisfied: Pillow in c:\\users\\sumee\\anaconda3\\lib\\site-packages (from rdkit-pypi) (10.4.0)\n",
            "Note: you may need to restart the kernel to use updated packages.\n"
          ]
        }
      ],
      "source": [
        "pip install rdkit-pypi\n"
      ]
    },
    {
      "cell_type": "markdown",
      "metadata": {
        "colab_type": "text",
        "id": "YzN_S4Quro5S"
      },
      "source": [
        "## **Calculate Lipinski descriptors**\n",
        "Christopher Lipinski, a scientist at Pfizer, came up with a set of rule-of-thumb for evaluating the **druglikeness** of compounds. Such druglikeness is based on the Absorption, Distribution, Metabolism and Excretion (ADME) that is also known as the pharmacokinetic profile. Lipinski analyzed all orally active FDA-approved drugs in the formulation of what is to be known as the **Rule-of-Five** or **Lipinski's Rule**.\n",
        "\n",
        "The Lipinski's Rule stated the following:\n",
        "* Molecular weight < 500 Dalton\n",
        "* Octanol-water partition coefficient (LogP) < 5\n",
        "* Hydrogen bond donors < 5\n",
        "* Hydrogen bond acceptors < 10 "
      ]
    },
    {
      "cell_type": "markdown",
      "metadata": {
        "colab_type": "text",
        "id": "9qn_eQcnxY7C"
      },
      "source": [
        "### **Import libraries**"
      ]
    },
    {
      "cell_type": "code",
      "execution_count": 8,
      "metadata": {},
      "outputs": [
        {
          "name": "stdout",
          "output_type": "stream",
          "text": [
            "RDKit imported successfully!\n"
          ]
        }
      ],
      "source": [
        "import numpy as np\n",
        "from rdkit import Chem\n",
        "from rdkit.Chem import Descriptors, Lipinski\n",
        "\n",
        "print(\"RDKit imported successfully!\")\n"
      ]
    },
    {
      "cell_type": "code",
      "execution_count": 27,
      "metadata": {
        "colab": {},
        "colab_type": "code",
        "id": "CgBjIdT-rnRU"
      },
      "outputs": [],
      "source": [
        "import numpy as np\n",
        "from rdkit import Chem\n",
        "from rdkit.Chem import Descriptors, Lipinski"
      ]
    },
    {
      "cell_type": "markdown",
      "metadata": {
        "colab_type": "text",
        "id": "JsgTV-ByxdMa"
      },
      "source": [
        "### **Calculate descriptors**"
      ]
    },
    {
      "cell_type": "code",
      "execution_count": 28,
      "metadata": {
        "colab": {},
        "colab_type": "code",
        "id": "bCXEY7a9ugO_"
      },
      "outputs": [],
      "source": [
        "\n",
        "def lipinski(smiles, verbose=False):\n",
        "\n",
        "    moldata= []\n",
        "    for elem in smiles:\n",
        "        mol=Chem.MolFromSmiles(elem) \n",
        "        moldata.append(mol)\n",
        "       \n",
        "    baseData= np.arange(1,1)\n",
        "    i=0  \n",
        "    for mol in moldata:        \n",
        "       \n",
        "        desc_MolWt = Descriptors.MolWt(mol)\n",
        "        desc_MolLogP = Descriptors.MolLogP(mol)\n",
        "        desc_NumHDonors = Lipinski.NumHDonors(mol)\n",
        "        desc_NumHAcceptors = Lipinski.NumHAcceptors(mol)\n",
        "           \n",
        "        row = np.array([desc_MolWt,\n",
        "                        desc_MolLogP,\n",
        "                        desc_NumHDonors,\n",
        "                        desc_NumHAcceptors])   \n",
        "    \n",
        "        if(i==0):\n",
        "            baseData=row\n",
        "        else:\n",
        "            baseData=np.vstack([baseData, row])\n",
        "        i=i+1      \n",
        "    \n",
        "    columnNames=[\"MW\",\"LogP\",\"NumHDonors\",\"NumHAcceptors\"]   \n",
        "    descriptors = pd.DataFrame(data=baseData,columns=columnNames)\n",
        "    \n",
        "    return descriptors"
      ]
    },
    {
      "cell_type": "code",
      "execution_count": 29,
      "metadata": {
        "colab": {
          "base_uri": "https://localhost:8080/",
          "height": 419
        },
        "colab_type": "code",
        "id": "ThFIFw8IukMY",
        "outputId": "574c050c-44f1-43be-bf6c-bf973d8d0675"
      },
      "outputs": [
        {
          "data": {
            "text/html": [
              "<div>\n",
              "<style scoped>\n",
              "    .dataframe tbody tr th:only-of-type {\n",
              "        vertical-align: middle;\n",
              "    }\n",
              "\n",
              "    .dataframe tbody tr th {\n",
              "        vertical-align: top;\n",
              "    }\n",
              "\n",
              "    .dataframe thead th {\n",
              "        text-align: right;\n",
              "    }\n",
              "</style>\n",
              "<table border=\"1\" class=\"dataframe\">\n",
              "  <thead>\n",
              "    <tr style=\"text-align: right;\">\n",
              "      <th></th>\n",
              "      <th>MW</th>\n",
              "      <th>LogP</th>\n",
              "      <th>NumHDonors</th>\n",
              "      <th>NumHAcceptors</th>\n",
              "    </tr>\n",
              "  </thead>\n",
              "  <tbody>\n",
              "    <tr>\n",
              "      <th>0</th>\n",
              "      <td>312.325</td>\n",
              "      <td>2.8032</td>\n",
              "      <td>0.0</td>\n",
              "      <td>6.0</td>\n",
              "    </tr>\n",
              "    <tr>\n",
              "      <th>1</th>\n",
              "      <td>376.913</td>\n",
              "      <td>4.5546</td>\n",
              "      <td>0.0</td>\n",
              "      <td>5.0</td>\n",
              "    </tr>\n",
              "    <tr>\n",
              "      <th>2</th>\n",
              "      <td>426.851</td>\n",
              "      <td>5.3574</td>\n",
              "      <td>0.0</td>\n",
              "      <td>5.0</td>\n",
              "    </tr>\n",
              "    <tr>\n",
              "      <th>3</th>\n",
              "      <td>404.845</td>\n",
              "      <td>4.7069</td>\n",
              "      <td>0.0</td>\n",
              "      <td>5.0</td>\n",
              "    </tr>\n",
              "    <tr>\n",
              "      <th>4</th>\n",
              "      <td>346.334</td>\n",
              "      <td>3.0953</td>\n",
              "      <td>0.0</td>\n",
              "      <td>6.0</td>\n",
              "    </tr>\n",
              "    <tr>\n",
              "      <th>...</th>\n",
              "      <td>...</td>\n",
              "      <td>...</td>\n",
              "      <td>...</td>\n",
              "      <td>...</td>\n",
              "    </tr>\n",
              "    <tr>\n",
              "      <th>3847</th>\n",
              "      <td>394.544</td>\n",
              "      <td>3.0222</td>\n",
              "      <td>0.0</td>\n",
              "      <td>5.0</td>\n",
              "    </tr>\n",
              "    <tr>\n",
              "      <th>3848</th>\n",
              "      <td>450.652</td>\n",
              "      <td>4.2350</td>\n",
              "      <td>0.0</td>\n",
              "      <td>5.0</td>\n",
              "    </tr>\n",
              "    <tr>\n",
              "      <th>3849</th>\n",
              "      <td>408.571</td>\n",
              "      <td>3.0647</td>\n",
              "      <td>0.0</td>\n",
              "      <td>5.0</td>\n",
              "    </tr>\n",
              "    <tr>\n",
              "      <th>3850</th>\n",
              "      <td>484.669</td>\n",
              "      <td>4.7649</td>\n",
              "      <td>0.0</td>\n",
              "      <td>5.0</td>\n",
              "    </tr>\n",
              "    <tr>\n",
              "      <th>3851</th>\n",
              "      <td>436.625</td>\n",
              "      <td>3.8449</td>\n",
              "      <td>0.0</td>\n",
              "      <td>5.0</td>\n",
              "    </tr>\n",
              "  </tbody>\n",
              "</table>\n",
              "<p>3852 rows × 4 columns</p>\n",
              "</div>"
            ],
            "text/plain": [
              "           MW    LogP  NumHDonors  NumHAcceptors\n",
              "0     312.325  2.8032         0.0            6.0\n",
              "1     376.913  4.5546         0.0            5.0\n",
              "2     426.851  5.3574         0.0            5.0\n",
              "3     404.845  4.7069         0.0            5.0\n",
              "4     346.334  3.0953         0.0            6.0\n",
              "...       ...     ...         ...            ...\n",
              "3847  394.544  3.0222         0.0            5.0\n",
              "3848  450.652  4.2350         0.0            5.0\n",
              "3849  408.571  3.0647         0.0            5.0\n",
              "3850  484.669  4.7649         0.0            5.0\n",
              "3851  436.625  3.8449         0.0            5.0\n",
              "\n",
              "[3852 rows x 4 columns]"
            ]
          },
          "execution_count": 29,
          "metadata": {},
          "output_type": "execute_result"
        }
      ],
      "source": [
        "df_lipinski = lipinski(df_clean_smiles.canonical_smiles)\n",
        "df_lipinski"
      ]
    },
    {
      "cell_type": "markdown",
      "metadata": {
        "colab_type": "text",
        "id": "gUMlPfFrxicj"
      },
      "source": [
        "### **Combine DataFrames**\n",
        "\n",
        "Let's take a look at the 2 DataFrames that will be combined."
      ]
    },
    {
      "cell_type": "code",
      "execution_count": 30,
      "metadata": {
        "colab": {
          "base_uri": "https://localhost:8080/",
          "height": 419
        },
        "colab_type": "code",
        "id": "DaezyM5vwp9n",
        "outputId": "14dfe606-85e1-43ca-aaec-feb5b59f5404"
      },
      "outputs": [
        {
          "data": {
            "text/html": [
              "<div>\n",
              "<style scoped>\n",
              "    .dataframe tbody tr th:only-of-type {\n",
              "        vertical-align: middle;\n",
              "    }\n",
              "\n",
              "    .dataframe tbody tr th {\n",
              "        vertical-align: top;\n",
              "    }\n",
              "\n",
              "    .dataframe thead th {\n",
              "        text-align: right;\n",
              "    }\n",
              "</style>\n",
              "<table border=\"1\" class=\"dataframe\">\n",
              "  <thead>\n",
              "    <tr style=\"text-align: right;\">\n",
              "      <th></th>\n",
              "      <th>MW</th>\n",
              "      <th>LogP</th>\n",
              "      <th>NumHDonors</th>\n",
              "      <th>NumHAcceptors</th>\n",
              "    </tr>\n",
              "  </thead>\n",
              "  <tbody>\n",
              "    <tr>\n",
              "      <th>0</th>\n",
              "      <td>312.325</td>\n",
              "      <td>2.8032</td>\n",
              "      <td>0.0</td>\n",
              "      <td>6.0</td>\n",
              "    </tr>\n",
              "    <tr>\n",
              "      <th>1</th>\n",
              "      <td>376.913</td>\n",
              "      <td>4.5546</td>\n",
              "      <td>0.0</td>\n",
              "      <td>5.0</td>\n",
              "    </tr>\n",
              "    <tr>\n",
              "      <th>2</th>\n",
              "      <td>426.851</td>\n",
              "      <td>5.3574</td>\n",
              "      <td>0.0</td>\n",
              "      <td>5.0</td>\n",
              "    </tr>\n",
              "    <tr>\n",
              "      <th>3</th>\n",
              "      <td>404.845</td>\n",
              "      <td>4.7069</td>\n",
              "      <td>0.0</td>\n",
              "      <td>5.0</td>\n",
              "    </tr>\n",
              "    <tr>\n",
              "      <th>4</th>\n",
              "      <td>346.334</td>\n",
              "      <td>3.0953</td>\n",
              "      <td>0.0</td>\n",
              "      <td>6.0</td>\n",
              "    </tr>\n",
              "    <tr>\n",
              "      <th>...</th>\n",
              "      <td>...</td>\n",
              "      <td>...</td>\n",
              "      <td>...</td>\n",
              "      <td>...</td>\n",
              "    </tr>\n",
              "    <tr>\n",
              "      <th>3847</th>\n",
              "      <td>394.544</td>\n",
              "      <td>3.0222</td>\n",
              "      <td>0.0</td>\n",
              "      <td>5.0</td>\n",
              "    </tr>\n",
              "    <tr>\n",
              "      <th>3848</th>\n",
              "      <td>450.652</td>\n",
              "      <td>4.2350</td>\n",
              "      <td>0.0</td>\n",
              "      <td>5.0</td>\n",
              "    </tr>\n",
              "    <tr>\n",
              "      <th>3849</th>\n",
              "      <td>408.571</td>\n",
              "      <td>3.0647</td>\n",
              "      <td>0.0</td>\n",
              "      <td>5.0</td>\n",
              "    </tr>\n",
              "    <tr>\n",
              "      <th>3850</th>\n",
              "      <td>484.669</td>\n",
              "      <td>4.7649</td>\n",
              "      <td>0.0</td>\n",
              "      <td>5.0</td>\n",
              "    </tr>\n",
              "    <tr>\n",
              "      <th>3851</th>\n",
              "      <td>436.625</td>\n",
              "      <td>3.8449</td>\n",
              "      <td>0.0</td>\n",
              "      <td>5.0</td>\n",
              "    </tr>\n",
              "  </tbody>\n",
              "</table>\n",
              "<p>3852 rows × 4 columns</p>\n",
              "</div>"
            ],
            "text/plain": [
              "           MW    LogP  NumHDonors  NumHAcceptors\n",
              "0     312.325  2.8032         0.0            6.0\n",
              "1     376.913  4.5546         0.0            5.0\n",
              "2     426.851  5.3574         0.0            5.0\n",
              "3     404.845  4.7069         0.0            5.0\n",
              "4     346.334  3.0953         0.0            6.0\n",
              "...       ...     ...         ...            ...\n",
              "3847  394.544  3.0222         0.0            5.0\n",
              "3848  450.652  4.2350         0.0            5.0\n",
              "3849  408.571  3.0647         0.0            5.0\n",
              "3850  484.669  4.7649         0.0            5.0\n",
              "3851  436.625  3.8449         0.0            5.0\n",
              "\n",
              "[3852 rows x 4 columns]"
            ]
          },
          "execution_count": 30,
          "metadata": {},
          "output_type": "execute_result"
        }
      ],
      "source": [
        "df_lipinski"
      ]
    },
    {
      "cell_type": "code",
      "execution_count": 31,
      "metadata": {
        "colab": {
          "base_uri": "https://localhost:8080/",
          "height": 419
        },
        "colab_type": "code",
        "id": "9-ChzM8_wuq_",
        "outputId": "64a6a0c0-e29a-4cdd-c9ea-9b102b63cfe2"
      },
      "outputs": [
        {
          "data": {
            "text/html": [
              "<div>\n",
              "<style scoped>\n",
              "    .dataframe tbody tr th:only-of-type {\n",
              "        vertical-align: middle;\n",
              "    }\n",
              "\n",
              "    .dataframe tbody tr th {\n",
              "        vertical-align: top;\n",
              "    }\n",
              "\n",
              "    .dataframe thead th {\n",
              "        text-align: right;\n",
              "    }\n",
              "</style>\n",
              "<table border=\"1\" class=\"dataframe\">\n",
              "  <thead>\n",
              "    <tr style=\"text-align: right;\">\n",
              "      <th></th>\n",
              "      <th>molecule_chembl_id</th>\n",
              "      <th>canonical_smiles</th>\n",
              "      <th>standard_value</th>\n",
              "      <th>class</th>\n",
              "    </tr>\n",
              "  </thead>\n",
              "  <tbody>\n",
              "    <tr>\n",
              "      <th>0</th>\n",
              "      <td>CHEMBL133897</td>\n",
              "      <td>CCOc1nn(-c2cccc(OCc3ccccc3)c2)c(=O)o1</td>\n",
              "      <td>920.0</td>\n",
              "      <td>active</td>\n",
              "    </tr>\n",
              "    <tr>\n",
              "      <th>1</th>\n",
              "      <td>CHEMBL336398</td>\n",
              "      <td>O=C(N1CCCCC1)n1nc(-c2ccc(Cl)cc2)nc1SCC1CC1</td>\n",
              "      <td>900.0</td>\n",
              "      <td>active</td>\n",
              "    </tr>\n",
              "    <tr>\n",
              "      <th>2</th>\n",
              "      <td>CHEMBL131588</td>\n",
              "      <td>CN(C(=O)n1nc(-c2ccc(Cl)cc2)nc1SCC(F)(F)F)c1ccccc1</td>\n",
              "      <td>50000.0</td>\n",
              "      <td>inactive</td>\n",
              "    </tr>\n",
              "    <tr>\n",
              "      <th>3</th>\n",
              "      <td>CHEMBL130628</td>\n",
              "      <td>O=C(N1CCCCC1)n1nc(-c2ccc(Cl)cc2)nc1SCC(F)(F)F</td>\n",
              "      <td>1000.0</td>\n",
              "      <td>active</td>\n",
              "    </tr>\n",
              "    <tr>\n",
              "      <th>4</th>\n",
              "      <td>CHEMBL130478</td>\n",
              "      <td>CSc1nc(-c2ccc(OC(F)(F)F)cc2)nn1C(=O)N(C)C</td>\n",
              "      <td>200.0</td>\n",
              "      <td>active</td>\n",
              "    </tr>\n",
              "    <tr>\n",
              "      <th>...</th>\n",
              "      <td>...</td>\n",
              "      <td>...</td>\n",
              "      <td>...</td>\n",
              "      <td>...</td>\n",
              "    </tr>\n",
              "    <tr>\n",
              "      <th>3847</th>\n",
              "      <td>CHEMBL5270598</td>\n",
              "      <td>O=C1CC2CCc3ccsc3C2=NN1CN1CCN(Cc2ccccc2)CC1</td>\n",
              "      <td>5580.0</td>\n",
              "      <td>intermediate</td>\n",
              "    </tr>\n",
              "    <tr>\n",
              "      <th>3848</th>\n",
              "      <td>CHEMBL5285633</td>\n",
              "      <td>O=C1CC2CCCc3ccsc3C2=NN1CCCCN1CCN(Cc2ccccc2)CC1</td>\n",
              "      <td>4130.0</td>\n",
              "      <td>intermediate</td>\n",
              "    </tr>\n",
              "    <tr>\n",
              "      <th>3849</th>\n",
              "      <td>CHEMBL5283494</td>\n",
              "      <td>O=C1CC2CCc3ccsc3C2=NN1CCN1CCN(Cc2ccccc2)CC1</td>\n",
              "      <td>5110.0</td>\n",
              "      <td>intermediate</td>\n",
              "    </tr>\n",
              "    <tr>\n",
              "      <th>3850</th>\n",
              "      <td>CHEMBL5283557</td>\n",
              "      <td>O=C1CC2CCc3ccsc3C2=NN1Cc1ccc(CN2CCN(Cc3ccccc3)...</td>\n",
              "      <td>9700.0</td>\n",
              "      <td>intermediate</td>\n",
              "    </tr>\n",
              "    <tr>\n",
              "      <th>3851</th>\n",
              "      <td>CHEMBL5288465</td>\n",
              "      <td>O=C1CC2CCc3sccc3C2=NN1CCCCN1CCN(Cc2ccccc2)CC1</td>\n",
              "      <td>3300.0</td>\n",
              "      <td>intermediate</td>\n",
              "    </tr>\n",
              "  </tbody>\n",
              "</table>\n",
              "<p>3852 rows × 4 columns</p>\n",
              "</div>"
            ],
            "text/plain": [
              "     molecule_chembl_id                                   canonical_smiles  \\\n",
              "0          CHEMBL133897              CCOc1nn(-c2cccc(OCc3ccccc3)c2)c(=O)o1   \n",
              "1          CHEMBL336398         O=C(N1CCCCC1)n1nc(-c2ccc(Cl)cc2)nc1SCC1CC1   \n",
              "2          CHEMBL131588  CN(C(=O)n1nc(-c2ccc(Cl)cc2)nc1SCC(F)(F)F)c1ccccc1   \n",
              "3          CHEMBL130628      O=C(N1CCCCC1)n1nc(-c2ccc(Cl)cc2)nc1SCC(F)(F)F   \n",
              "4          CHEMBL130478          CSc1nc(-c2ccc(OC(F)(F)F)cc2)nn1C(=O)N(C)C   \n",
              "...                 ...                                                ...   \n",
              "3847      CHEMBL5270598         O=C1CC2CCc3ccsc3C2=NN1CN1CCN(Cc2ccccc2)CC1   \n",
              "3848      CHEMBL5285633     O=C1CC2CCCc3ccsc3C2=NN1CCCCN1CCN(Cc2ccccc2)CC1   \n",
              "3849      CHEMBL5283494        O=C1CC2CCc3ccsc3C2=NN1CCN1CCN(Cc2ccccc2)CC1   \n",
              "3850      CHEMBL5283557  O=C1CC2CCc3ccsc3C2=NN1Cc1ccc(CN2CCN(Cc3ccccc3)...   \n",
              "3851      CHEMBL5288465      O=C1CC2CCc3sccc3C2=NN1CCCCN1CCN(Cc2ccccc2)CC1   \n",
              "\n",
              "      standard_value         class  \n",
              "0              920.0        active  \n",
              "1              900.0        active  \n",
              "2            50000.0      inactive  \n",
              "3             1000.0        active  \n",
              "4              200.0        active  \n",
              "...              ...           ...  \n",
              "3847          5580.0  intermediate  \n",
              "3848          4130.0  intermediate  \n",
              "3849          5110.0  intermediate  \n",
              "3850          9700.0  intermediate  \n",
              "3851          3300.0  intermediate  \n",
              "\n",
              "[3852 rows x 4 columns]"
            ]
          },
          "execution_count": 31,
          "metadata": {},
          "output_type": "execute_result"
        }
      ],
      "source": [
        "df"
      ]
    },
    {
      "cell_type": "markdown",
      "metadata": {
        "colab_type": "text",
        "id": "eET6iZ1Aw3oe"
      },
      "source": [
        "Now, let's combine the 2 DataFrame"
      ]
    },
    {
      "cell_type": "code",
      "execution_count": 32,
      "metadata": {
        "colab": {},
        "colab_type": "code",
        "id": "L9nUZC0Ww3gp"
      },
      "outputs": [],
      "source": [
        "df_combined = pd.concat([df,df_lipinski], axis=1)"
      ]
    },
    {
      "cell_type": "code",
      "execution_count": 33,
      "metadata": {
        "colab": {
          "base_uri": "https://localhost:8080/",
          "height": 419
        },
        "colab_type": "code",
        "id": "FRBfBP3QxFJp",
        "outputId": "33528544-8108-4303-a9f2-977c0f6aef91"
      },
      "outputs": [
        {
          "data": {
            "text/html": [
              "<div>\n",
              "<style scoped>\n",
              "    .dataframe tbody tr th:only-of-type {\n",
              "        vertical-align: middle;\n",
              "    }\n",
              "\n",
              "    .dataframe tbody tr th {\n",
              "        vertical-align: top;\n",
              "    }\n",
              "\n",
              "    .dataframe thead th {\n",
              "        text-align: right;\n",
              "    }\n",
              "</style>\n",
              "<table border=\"1\" class=\"dataframe\">\n",
              "  <thead>\n",
              "    <tr style=\"text-align: right;\">\n",
              "      <th></th>\n",
              "      <th>molecule_chembl_id</th>\n",
              "      <th>canonical_smiles</th>\n",
              "      <th>standard_value</th>\n",
              "      <th>class</th>\n",
              "      <th>MW</th>\n",
              "      <th>LogP</th>\n",
              "      <th>NumHDonors</th>\n",
              "      <th>NumHAcceptors</th>\n",
              "    </tr>\n",
              "  </thead>\n",
              "  <tbody>\n",
              "    <tr>\n",
              "      <th>0</th>\n",
              "      <td>CHEMBL133897</td>\n",
              "      <td>CCOc1nn(-c2cccc(OCc3ccccc3)c2)c(=O)o1</td>\n",
              "      <td>920.0</td>\n",
              "      <td>active</td>\n",
              "      <td>312.325</td>\n",
              "      <td>2.8032</td>\n",
              "      <td>0.0</td>\n",
              "      <td>6.0</td>\n",
              "    </tr>\n",
              "    <tr>\n",
              "      <th>1</th>\n",
              "      <td>CHEMBL336398</td>\n",
              "      <td>O=C(N1CCCCC1)n1nc(-c2ccc(Cl)cc2)nc1SCC1CC1</td>\n",
              "      <td>900.0</td>\n",
              "      <td>active</td>\n",
              "      <td>376.913</td>\n",
              "      <td>4.5546</td>\n",
              "      <td>0.0</td>\n",
              "      <td>5.0</td>\n",
              "    </tr>\n",
              "    <tr>\n",
              "      <th>2</th>\n",
              "      <td>CHEMBL131588</td>\n",
              "      <td>CN(C(=O)n1nc(-c2ccc(Cl)cc2)nc1SCC(F)(F)F)c1ccccc1</td>\n",
              "      <td>50000.0</td>\n",
              "      <td>inactive</td>\n",
              "      <td>426.851</td>\n",
              "      <td>5.3574</td>\n",
              "      <td>0.0</td>\n",
              "      <td>5.0</td>\n",
              "    </tr>\n",
              "    <tr>\n",
              "      <th>3</th>\n",
              "      <td>CHEMBL130628</td>\n",
              "      <td>O=C(N1CCCCC1)n1nc(-c2ccc(Cl)cc2)nc1SCC(F)(F)F</td>\n",
              "      <td>1000.0</td>\n",
              "      <td>active</td>\n",
              "      <td>404.845</td>\n",
              "      <td>4.7069</td>\n",
              "      <td>0.0</td>\n",
              "      <td>5.0</td>\n",
              "    </tr>\n",
              "    <tr>\n",
              "      <th>4</th>\n",
              "      <td>CHEMBL130478</td>\n",
              "      <td>CSc1nc(-c2ccc(OC(F)(F)F)cc2)nn1C(=O)N(C)C</td>\n",
              "      <td>200.0</td>\n",
              "      <td>active</td>\n",
              "      <td>346.334</td>\n",
              "      <td>3.0953</td>\n",
              "      <td>0.0</td>\n",
              "      <td>6.0</td>\n",
              "    </tr>\n",
              "    <tr>\n",
              "      <th>...</th>\n",
              "      <td>...</td>\n",
              "      <td>...</td>\n",
              "      <td>...</td>\n",
              "      <td>...</td>\n",
              "      <td>...</td>\n",
              "      <td>...</td>\n",
              "      <td>...</td>\n",
              "      <td>...</td>\n",
              "    </tr>\n",
              "    <tr>\n",
              "      <th>3847</th>\n",
              "      <td>CHEMBL5270598</td>\n",
              "      <td>O=C1CC2CCc3ccsc3C2=NN1CN1CCN(Cc2ccccc2)CC1</td>\n",
              "      <td>5580.0</td>\n",
              "      <td>intermediate</td>\n",
              "      <td>394.544</td>\n",
              "      <td>3.0222</td>\n",
              "      <td>0.0</td>\n",
              "      <td>5.0</td>\n",
              "    </tr>\n",
              "    <tr>\n",
              "      <th>3848</th>\n",
              "      <td>CHEMBL5285633</td>\n",
              "      <td>O=C1CC2CCCc3ccsc3C2=NN1CCCCN1CCN(Cc2ccccc2)CC1</td>\n",
              "      <td>4130.0</td>\n",
              "      <td>intermediate</td>\n",
              "      <td>450.652</td>\n",
              "      <td>4.2350</td>\n",
              "      <td>0.0</td>\n",
              "      <td>5.0</td>\n",
              "    </tr>\n",
              "    <tr>\n",
              "      <th>3849</th>\n",
              "      <td>CHEMBL5283494</td>\n",
              "      <td>O=C1CC2CCc3ccsc3C2=NN1CCN1CCN(Cc2ccccc2)CC1</td>\n",
              "      <td>5110.0</td>\n",
              "      <td>intermediate</td>\n",
              "      <td>408.571</td>\n",
              "      <td>3.0647</td>\n",
              "      <td>0.0</td>\n",
              "      <td>5.0</td>\n",
              "    </tr>\n",
              "    <tr>\n",
              "      <th>3850</th>\n",
              "      <td>CHEMBL5283557</td>\n",
              "      <td>O=C1CC2CCc3ccsc3C2=NN1Cc1ccc(CN2CCN(Cc3ccccc3)...</td>\n",
              "      <td>9700.0</td>\n",
              "      <td>intermediate</td>\n",
              "      <td>484.669</td>\n",
              "      <td>4.7649</td>\n",
              "      <td>0.0</td>\n",
              "      <td>5.0</td>\n",
              "    </tr>\n",
              "    <tr>\n",
              "      <th>3851</th>\n",
              "      <td>CHEMBL5288465</td>\n",
              "      <td>O=C1CC2CCc3sccc3C2=NN1CCCCN1CCN(Cc2ccccc2)CC1</td>\n",
              "      <td>3300.0</td>\n",
              "      <td>intermediate</td>\n",
              "      <td>436.625</td>\n",
              "      <td>3.8449</td>\n",
              "      <td>0.0</td>\n",
              "      <td>5.0</td>\n",
              "    </tr>\n",
              "  </tbody>\n",
              "</table>\n",
              "<p>3852 rows × 8 columns</p>\n",
              "</div>"
            ],
            "text/plain": [
              "     molecule_chembl_id                                   canonical_smiles  \\\n",
              "0          CHEMBL133897              CCOc1nn(-c2cccc(OCc3ccccc3)c2)c(=O)o1   \n",
              "1          CHEMBL336398         O=C(N1CCCCC1)n1nc(-c2ccc(Cl)cc2)nc1SCC1CC1   \n",
              "2          CHEMBL131588  CN(C(=O)n1nc(-c2ccc(Cl)cc2)nc1SCC(F)(F)F)c1ccccc1   \n",
              "3          CHEMBL130628      O=C(N1CCCCC1)n1nc(-c2ccc(Cl)cc2)nc1SCC(F)(F)F   \n",
              "4          CHEMBL130478          CSc1nc(-c2ccc(OC(F)(F)F)cc2)nn1C(=O)N(C)C   \n",
              "...                 ...                                                ...   \n",
              "3847      CHEMBL5270598         O=C1CC2CCc3ccsc3C2=NN1CN1CCN(Cc2ccccc2)CC1   \n",
              "3848      CHEMBL5285633     O=C1CC2CCCc3ccsc3C2=NN1CCCCN1CCN(Cc2ccccc2)CC1   \n",
              "3849      CHEMBL5283494        O=C1CC2CCc3ccsc3C2=NN1CCN1CCN(Cc2ccccc2)CC1   \n",
              "3850      CHEMBL5283557  O=C1CC2CCc3ccsc3C2=NN1Cc1ccc(CN2CCN(Cc3ccccc3)...   \n",
              "3851      CHEMBL5288465      O=C1CC2CCc3sccc3C2=NN1CCCCN1CCN(Cc2ccccc2)CC1   \n",
              "\n",
              "      standard_value         class       MW    LogP  NumHDonors  NumHAcceptors  \n",
              "0              920.0        active  312.325  2.8032         0.0            6.0  \n",
              "1              900.0        active  376.913  4.5546         0.0            5.0  \n",
              "2            50000.0      inactive  426.851  5.3574         0.0            5.0  \n",
              "3             1000.0        active  404.845  4.7069         0.0            5.0  \n",
              "4              200.0        active  346.334  3.0953         0.0            6.0  \n",
              "...              ...           ...      ...     ...         ...            ...  \n",
              "3847          5580.0  intermediate  394.544  3.0222         0.0            5.0  \n",
              "3848          4130.0  intermediate  450.652  4.2350         0.0            5.0  \n",
              "3849          5110.0  intermediate  408.571  3.0647         0.0            5.0  \n",
              "3850          9700.0  intermediate  484.669  4.7649         0.0            5.0  \n",
              "3851          3300.0  intermediate  436.625  3.8449         0.0            5.0  \n",
              "\n",
              "[3852 rows x 8 columns]"
            ]
          },
          "execution_count": 33,
          "metadata": {},
          "output_type": "execute_result"
        }
      ],
      "source": [
        "df_combined"
      ]
    },
    {
      "cell_type": "markdown",
      "metadata": {
        "colab_type": "text",
        "id": "e0MLOedB6j96"
      },
      "source": [
        "### **Convert IC50 to pIC50**\n",
        "To allow **IC50** data to be more uniformly distributed, we will convert **IC50** to the negative logarithmic scale which is essentially **-log10(IC50)**.\n",
        "\n",
        "This custom function pIC50() will accept a DataFrame as input and will:\n",
        "* Take the IC50 values from the ``standard_value`` column and converts it from nM to M by multiplying the value by 10$^{-9}$\n",
        "* Take the molar value and apply -log10\n",
        "* Delete the ``standard_value`` column and create a new ``pIC50`` column"
      ]
    },
    {
      "cell_type": "code",
      "execution_count": 56,
      "metadata": {
        "colab": {},
        "colab_type": "code",
        "id": "UXMuFQoQ4pZF"
      },
      "outputs": [],
      "source": [
        "def pIC50(input):\n",
        "    pIC50 = []\n",
        "    \n",
        "    for molar in input['standard_value_norm']:\n",
        "        # Check if molar is zero or negative\n",
        "        if molar > 0:\n",
        "            pIC50.append(-np.log10(molar))\n",
        "        else:\n",
        "            pIC50.append(np.nan)  # or use a small positive number if you prefer\n",
        "\n",
        "    input['pIC50'] = pIC50\n",
        "    x = input.drop('standard_value_norm', axis=1)  # Use 'axis=1' for clarity\n",
        "\n",
        "    return x\n"
      ]
    },
    {
      "cell_type": "markdown",
      "metadata": {
        "colab_type": "text",
        "id": "WU5Fh1h2OaJJ"
      },
      "source": [
        "Point to note: Values greater than 100,000,000 will be fixed at 100,000,000 otherwise the negative logarithmic value will become negative."
      ]
    },
    {
      "cell_type": "code",
      "execution_count": 57,
      "metadata": {
        "colab": {
          "base_uri": "https://localhost:8080/",
          "height": 170
        },
        "colab_type": "code",
        "id": "QuUTFUpcR1wU",
        "outputId": "3e3fe22d-8587-42e3-c92e-396d37877589"
      },
      "outputs": [
        {
          "data": {
            "text/plain": [
              "count    3.852000e+03\n",
              "mean     5.305559e+12\n",
              "std      3.006245e+14\n",
              "min      0.000000e+00\n",
              "25%      2.060000e+02\n",
              "50%      3.500000e+03\n",
              "75%      2.172500e+04\n",
              "max      1.862087e+16\n",
              "Name: standard_value, dtype: float64"
            ]
          },
          "execution_count": 57,
          "metadata": {},
          "output_type": "execute_result"
        }
      ],
      "source": [
        "df_combined.standard_value.describe()"
      ]
    },
    {
      "cell_type": "code",
      "execution_count": 58,
      "metadata": {
        "colab": {
          "base_uri": "https://localhost:8080/",
          "height": 34
        },
        "colab_type": "code",
        "id": "QyiJ0to5N6Z_",
        "outputId": "58b38ec2-8f7d-4f44-cc35-1ef394f57854"
      },
      "outputs": [
        {
          "data": {
            "text/plain": [
              "1.0"
            ]
          },
          "execution_count": 58,
          "metadata": {},
          "output_type": "execute_result"
        }
      ],
      "source": [
        "-np.log10( (10**-9)* 100000000 )"
      ]
    },
    {
      "cell_type": "code",
      "execution_count": 59,
      "metadata": {
        "colab": {
          "base_uri": "https://localhost:8080/",
          "height": 34
        },
        "colab_type": "code",
        "id": "9S1aJkOYOP6K",
        "outputId": "0d9c6937-7c36-4844-f84b-9a95a22802dc"
      },
      "outputs": [
        {
          "data": {
            "text/plain": [
              "-1.0"
            ]
          },
          "execution_count": 59,
          "metadata": {},
          "output_type": "execute_result"
        }
      ],
      "source": [
        "-np.log10( (10**-9)* 10000000000 )"
      ]
    },
    {
      "cell_type": "code",
      "execution_count": 60,
      "metadata": {
        "colab": {},
        "colab_type": "code",
        "id": "iktHDDwtPDwl"
      },
      "outputs": [],
      "source": [
        "def norm_value(input):\n",
        "    norm = []\n",
        "\n",
        "    for i in input['standard_value']:\n",
        "        if i > 100000000:\n",
        "          i = 100000000\n",
        "        norm.append(i)\n",
        "\n",
        "    input['standard_value_norm'] = norm\n",
        "    x = input.drop('standard_value', axis=1)\n",
        "        \n",
        "    return x"
      ]
    },
    {
      "cell_type": "markdown",
      "metadata": {
        "colab_type": "text",
        "id": "EkrTs7RfPsrH"
      },
      "source": [
        "We will first apply the norm_value() function so that the values in the standard_value column is normalized."
      ]
    },
    {
      "cell_type": "code",
      "execution_count": 61,
      "metadata": {
        "colab": {
          "base_uri": "https://localhost:8080/",
          "height": 419
        },
        "colab_type": "code",
        "id": "EX2Mj2-ZP1Rj",
        "outputId": "8e07791e-d693-4d1b-9f82-f396d34c6338"
      },
      "outputs": [
        {
          "data": {
            "text/html": [
              "<div>\n",
              "<style scoped>\n",
              "    .dataframe tbody tr th:only-of-type {\n",
              "        vertical-align: middle;\n",
              "    }\n",
              "\n",
              "    .dataframe tbody tr th {\n",
              "        vertical-align: top;\n",
              "    }\n",
              "\n",
              "    .dataframe thead th {\n",
              "        text-align: right;\n",
              "    }\n",
              "</style>\n",
              "<table border=\"1\" class=\"dataframe\">\n",
              "  <thead>\n",
              "    <tr style=\"text-align: right;\">\n",
              "      <th></th>\n",
              "      <th>molecule_chembl_id</th>\n",
              "      <th>canonical_smiles</th>\n",
              "      <th>class</th>\n",
              "      <th>MW</th>\n",
              "      <th>LogP</th>\n",
              "      <th>NumHDonors</th>\n",
              "      <th>NumHAcceptors</th>\n",
              "      <th>standard_value_norm</th>\n",
              "    </tr>\n",
              "  </thead>\n",
              "  <tbody>\n",
              "    <tr>\n",
              "      <th>0</th>\n",
              "      <td>CHEMBL133897</td>\n",
              "      <td>CCOc1nn(-c2cccc(OCc3ccccc3)c2)c(=O)o1</td>\n",
              "      <td>active</td>\n",
              "      <td>312.325</td>\n",
              "      <td>2.8032</td>\n",
              "      <td>0.0</td>\n",
              "      <td>6.0</td>\n",
              "      <td>920.0</td>\n",
              "    </tr>\n",
              "    <tr>\n",
              "      <th>1</th>\n",
              "      <td>CHEMBL336398</td>\n",
              "      <td>O=C(N1CCCCC1)n1nc(-c2ccc(Cl)cc2)nc1SCC1CC1</td>\n",
              "      <td>active</td>\n",
              "      <td>376.913</td>\n",
              "      <td>4.5546</td>\n",
              "      <td>0.0</td>\n",
              "      <td>5.0</td>\n",
              "      <td>900.0</td>\n",
              "    </tr>\n",
              "    <tr>\n",
              "      <th>2</th>\n",
              "      <td>CHEMBL131588</td>\n",
              "      <td>CN(C(=O)n1nc(-c2ccc(Cl)cc2)nc1SCC(F)(F)F)c1ccccc1</td>\n",
              "      <td>inactive</td>\n",
              "      <td>426.851</td>\n",
              "      <td>5.3574</td>\n",
              "      <td>0.0</td>\n",
              "      <td>5.0</td>\n",
              "      <td>50000.0</td>\n",
              "    </tr>\n",
              "    <tr>\n",
              "      <th>3</th>\n",
              "      <td>CHEMBL130628</td>\n",
              "      <td>O=C(N1CCCCC1)n1nc(-c2ccc(Cl)cc2)nc1SCC(F)(F)F</td>\n",
              "      <td>active</td>\n",
              "      <td>404.845</td>\n",
              "      <td>4.7069</td>\n",
              "      <td>0.0</td>\n",
              "      <td>5.0</td>\n",
              "      <td>1000.0</td>\n",
              "    </tr>\n",
              "    <tr>\n",
              "      <th>4</th>\n",
              "      <td>CHEMBL130478</td>\n",
              "      <td>CSc1nc(-c2ccc(OC(F)(F)F)cc2)nn1C(=O)N(C)C</td>\n",
              "      <td>active</td>\n",
              "      <td>346.334</td>\n",
              "      <td>3.0953</td>\n",
              "      <td>0.0</td>\n",
              "      <td>6.0</td>\n",
              "      <td>200.0</td>\n",
              "    </tr>\n",
              "    <tr>\n",
              "      <th>...</th>\n",
              "      <td>...</td>\n",
              "      <td>...</td>\n",
              "      <td>...</td>\n",
              "      <td>...</td>\n",
              "      <td>...</td>\n",
              "      <td>...</td>\n",
              "      <td>...</td>\n",
              "      <td>...</td>\n",
              "    </tr>\n",
              "    <tr>\n",
              "      <th>3847</th>\n",
              "      <td>CHEMBL5270598</td>\n",
              "      <td>O=C1CC2CCc3ccsc3C2=NN1CN1CCN(Cc2ccccc2)CC1</td>\n",
              "      <td>intermediate</td>\n",
              "      <td>394.544</td>\n",
              "      <td>3.0222</td>\n",
              "      <td>0.0</td>\n",
              "      <td>5.0</td>\n",
              "      <td>5580.0</td>\n",
              "    </tr>\n",
              "    <tr>\n",
              "      <th>3848</th>\n",
              "      <td>CHEMBL5285633</td>\n",
              "      <td>O=C1CC2CCCc3ccsc3C2=NN1CCCCN1CCN(Cc2ccccc2)CC1</td>\n",
              "      <td>intermediate</td>\n",
              "      <td>450.652</td>\n",
              "      <td>4.2350</td>\n",
              "      <td>0.0</td>\n",
              "      <td>5.0</td>\n",
              "      <td>4130.0</td>\n",
              "    </tr>\n",
              "    <tr>\n",
              "      <th>3849</th>\n",
              "      <td>CHEMBL5283494</td>\n",
              "      <td>O=C1CC2CCc3ccsc3C2=NN1CCN1CCN(Cc2ccccc2)CC1</td>\n",
              "      <td>intermediate</td>\n",
              "      <td>408.571</td>\n",
              "      <td>3.0647</td>\n",
              "      <td>0.0</td>\n",
              "      <td>5.0</td>\n",
              "      <td>5110.0</td>\n",
              "    </tr>\n",
              "    <tr>\n",
              "      <th>3850</th>\n",
              "      <td>CHEMBL5283557</td>\n",
              "      <td>O=C1CC2CCc3ccsc3C2=NN1Cc1ccc(CN2CCN(Cc3ccccc3)...</td>\n",
              "      <td>intermediate</td>\n",
              "      <td>484.669</td>\n",
              "      <td>4.7649</td>\n",
              "      <td>0.0</td>\n",
              "      <td>5.0</td>\n",
              "      <td>9700.0</td>\n",
              "    </tr>\n",
              "    <tr>\n",
              "      <th>3851</th>\n",
              "      <td>CHEMBL5288465</td>\n",
              "      <td>O=C1CC2CCc3sccc3C2=NN1CCCCN1CCN(Cc2ccccc2)CC1</td>\n",
              "      <td>intermediate</td>\n",
              "      <td>436.625</td>\n",
              "      <td>3.8449</td>\n",
              "      <td>0.0</td>\n",
              "      <td>5.0</td>\n",
              "      <td>3300.0</td>\n",
              "    </tr>\n",
              "  </tbody>\n",
              "</table>\n",
              "<p>3852 rows × 8 columns</p>\n",
              "</div>"
            ],
            "text/plain": [
              "     molecule_chembl_id                                   canonical_smiles  \\\n",
              "0          CHEMBL133897              CCOc1nn(-c2cccc(OCc3ccccc3)c2)c(=O)o1   \n",
              "1          CHEMBL336398         O=C(N1CCCCC1)n1nc(-c2ccc(Cl)cc2)nc1SCC1CC1   \n",
              "2          CHEMBL131588  CN(C(=O)n1nc(-c2ccc(Cl)cc2)nc1SCC(F)(F)F)c1ccccc1   \n",
              "3          CHEMBL130628      O=C(N1CCCCC1)n1nc(-c2ccc(Cl)cc2)nc1SCC(F)(F)F   \n",
              "4          CHEMBL130478          CSc1nc(-c2ccc(OC(F)(F)F)cc2)nn1C(=O)N(C)C   \n",
              "...                 ...                                                ...   \n",
              "3847      CHEMBL5270598         O=C1CC2CCc3ccsc3C2=NN1CN1CCN(Cc2ccccc2)CC1   \n",
              "3848      CHEMBL5285633     O=C1CC2CCCc3ccsc3C2=NN1CCCCN1CCN(Cc2ccccc2)CC1   \n",
              "3849      CHEMBL5283494        O=C1CC2CCc3ccsc3C2=NN1CCN1CCN(Cc2ccccc2)CC1   \n",
              "3850      CHEMBL5283557  O=C1CC2CCc3ccsc3C2=NN1Cc1ccc(CN2CCN(Cc3ccccc3)...   \n",
              "3851      CHEMBL5288465      O=C1CC2CCc3sccc3C2=NN1CCCCN1CCN(Cc2ccccc2)CC1   \n",
              "\n",
              "             class       MW    LogP  NumHDonors  NumHAcceptors  \\\n",
              "0           active  312.325  2.8032         0.0            6.0   \n",
              "1           active  376.913  4.5546         0.0            5.0   \n",
              "2         inactive  426.851  5.3574         0.0            5.0   \n",
              "3           active  404.845  4.7069         0.0            5.0   \n",
              "4           active  346.334  3.0953         0.0            6.0   \n",
              "...            ...      ...     ...         ...            ...   \n",
              "3847  intermediate  394.544  3.0222         0.0            5.0   \n",
              "3848  intermediate  450.652  4.2350         0.0            5.0   \n",
              "3849  intermediate  408.571  3.0647         0.0            5.0   \n",
              "3850  intermediate  484.669  4.7649         0.0            5.0   \n",
              "3851  intermediate  436.625  3.8449         0.0            5.0   \n",
              "\n",
              "      standard_value_norm  \n",
              "0                   920.0  \n",
              "1                   900.0  \n",
              "2                 50000.0  \n",
              "3                  1000.0  \n",
              "4                   200.0  \n",
              "...                   ...  \n",
              "3847               5580.0  \n",
              "3848               4130.0  \n",
              "3849               5110.0  \n",
              "3850               9700.0  \n",
              "3851               3300.0  \n",
              "\n",
              "[3852 rows x 8 columns]"
            ]
          },
          "execution_count": 61,
          "metadata": {},
          "output_type": "execute_result"
        }
      ],
      "source": [
        "df_norm = norm_value(df_combined)\n",
        "df_norm"
      ]
    },
    {
      "cell_type": "code",
      "execution_count": 62,
      "metadata": {
        "colab": {
          "base_uri": "https://localhost:8080/",
          "height": 170
        },
        "colab_type": "code",
        "id": "hb1eKrIjRiH9",
        "outputId": "8435d28b-9774-4567-8134-51bfc3fc8271"
      },
      "outputs": [
        {
          "data": {
            "text/plain": [
              "count    3.852000e+03\n",
              "mean     2.250921e+05\n",
              "std      4.082546e+06\n",
              "min      0.000000e+00\n",
              "25%      2.060000e+02\n",
              "50%      3.500000e+03\n",
              "75%      2.172500e+04\n",
              "max      1.000000e+08\n",
              "Name: standard_value_norm, dtype: float64"
            ]
          },
          "execution_count": 62,
          "metadata": {},
          "output_type": "execute_result"
        }
      ],
      "source": [
        "df_norm.standard_value_norm.describe()"
      ]
    },
    {
      "cell_type": "code",
      "execution_count": 63,
      "metadata": {
        "colab": {
          "base_uri": "https://localhost:8080/",
          "height": 419
        },
        "colab_type": "code",
        "id": "UDKZzmK57YnS",
        "outputId": "89ec9de3-c71e-44fb-86a5-3b4172cf9e63"
      },
      "outputs": [
        {
          "data": {
            "text/html": [
              "<div>\n",
              "<style scoped>\n",
              "    .dataframe tbody tr th:only-of-type {\n",
              "        vertical-align: middle;\n",
              "    }\n",
              "\n",
              "    .dataframe tbody tr th {\n",
              "        vertical-align: top;\n",
              "    }\n",
              "\n",
              "    .dataframe thead th {\n",
              "        text-align: right;\n",
              "    }\n",
              "</style>\n",
              "<table border=\"1\" class=\"dataframe\">\n",
              "  <thead>\n",
              "    <tr style=\"text-align: right;\">\n",
              "      <th></th>\n",
              "      <th>molecule_chembl_id</th>\n",
              "      <th>canonical_smiles</th>\n",
              "      <th>class</th>\n",
              "      <th>MW</th>\n",
              "      <th>LogP</th>\n",
              "      <th>NumHDonors</th>\n",
              "      <th>NumHAcceptors</th>\n",
              "      <th>pIC50</th>\n",
              "    </tr>\n",
              "  </thead>\n",
              "  <tbody>\n",
              "    <tr>\n",
              "      <th>0</th>\n",
              "      <td>CHEMBL133897</td>\n",
              "      <td>CCOc1nn(-c2cccc(OCc3ccccc3)c2)c(=O)o1</td>\n",
              "      <td>active</td>\n",
              "      <td>312.325</td>\n",
              "      <td>2.8032</td>\n",
              "      <td>0.0</td>\n",
              "      <td>6.0</td>\n",
              "      <td>-2.963788</td>\n",
              "    </tr>\n",
              "    <tr>\n",
              "      <th>1</th>\n",
              "      <td>CHEMBL336398</td>\n",
              "      <td>O=C(N1CCCCC1)n1nc(-c2ccc(Cl)cc2)nc1SCC1CC1</td>\n",
              "      <td>active</td>\n",
              "      <td>376.913</td>\n",
              "      <td>4.5546</td>\n",
              "      <td>0.0</td>\n",
              "      <td>5.0</td>\n",
              "      <td>-2.954243</td>\n",
              "    </tr>\n",
              "    <tr>\n",
              "      <th>2</th>\n",
              "      <td>CHEMBL131588</td>\n",
              "      <td>CN(C(=O)n1nc(-c2ccc(Cl)cc2)nc1SCC(F)(F)F)c1ccccc1</td>\n",
              "      <td>inactive</td>\n",
              "      <td>426.851</td>\n",
              "      <td>5.3574</td>\n",
              "      <td>0.0</td>\n",
              "      <td>5.0</td>\n",
              "      <td>-4.698970</td>\n",
              "    </tr>\n",
              "    <tr>\n",
              "      <th>3</th>\n",
              "      <td>CHEMBL130628</td>\n",
              "      <td>O=C(N1CCCCC1)n1nc(-c2ccc(Cl)cc2)nc1SCC(F)(F)F</td>\n",
              "      <td>active</td>\n",
              "      <td>404.845</td>\n",
              "      <td>4.7069</td>\n",
              "      <td>0.0</td>\n",
              "      <td>5.0</td>\n",
              "      <td>-3.000000</td>\n",
              "    </tr>\n",
              "    <tr>\n",
              "      <th>4</th>\n",
              "      <td>CHEMBL130478</td>\n",
              "      <td>CSc1nc(-c2ccc(OC(F)(F)F)cc2)nn1C(=O)N(C)C</td>\n",
              "      <td>active</td>\n",
              "      <td>346.334</td>\n",
              "      <td>3.0953</td>\n",
              "      <td>0.0</td>\n",
              "      <td>6.0</td>\n",
              "      <td>-2.301030</td>\n",
              "    </tr>\n",
              "    <tr>\n",
              "      <th>...</th>\n",
              "      <td>...</td>\n",
              "      <td>...</td>\n",
              "      <td>...</td>\n",
              "      <td>...</td>\n",
              "      <td>...</td>\n",
              "      <td>...</td>\n",
              "      <td>...</td>\n",
              "      <td>...</td>\n",
              "    </tr>\n",
              "    <tr>\n",
              "      <th>3847</th>\n",
              "      <td>CHEMBL5270598</td>\n",
              "      <td>O=C1CC2CCc3ccsc3C2=NN1CN1CCN(Cc2ccccc2)CC1</td>\n",
              "      <td>intermediate</td>\n",
              "      <td>394.544</td>\n",
              "      <td>3.0222</td>\n",
              "      <td>0.0</td>\n",
              "      <td>5.0</td>\n",
              "      <td>-3.746634</td>\n",
              "    </tr>\n",
              "    <tr>\n",
              "      <th>3848</th>\n",
              "      <td>CHEMBL5285633</td>\n",
              "      <td>O=C1CC2CCCc3ccsc3C2=NN1CCCCN1CCN(Cc2ccccc2)CC1</td>\n",
              "      <td>intermediate</td>\n",
              "      <td>450.652</td>\n",
              "      <td>4.2350</td>\n",
              "      <td>0.0</td>\n",
              "      <td>5.0</td>\n",
              "      <td>-3.615950</td>\n",
              "    </tr>\n",
              "    <tr>\n",
              "      <th>3849</th>\n",
              "      <td>CHEMBL5283494</td>\n",
              "      <td>O=C1CC2CCc3ccsc3C2=NN1CCN1CCN(Cc2ccccc2)CC1</td>\n",
              "      <td>intermediate</td>\n",
              "      <td>408.571</td>\n",
              "      <td>3.0647</td>\n",
              "      <td>0.0</td>\n",
              "      <td>5.0</td>\n",
              "      <td>-3.708421</td>\n",
              "    </tr>\n",
              "    <tr>\n",
              "      <th>3850</th>\n",
              "      <td>CHEMBL5283557</td>\n",
              "      <td>O=C1CC2CCc3ccsc3C2=NN1Cc1ccc(CN2CCN(Cc3ccccc3)...</td>\n",
              "      <td>intermediate</td>\n",
              "      <td>484.669</td>\n",
              "      <td>4.7649</td>\n",
              "      <td>0.0</td>\n",
              "      <td>5.0</td>\n",
              "      <td>-3.986772</td>\n",
              "    </tr>\n",
              "    <tr>\n",
              "      <th>3851</th>\n",
              "      <td>CHEMBL5288465</td>\n",
              "      <td>O=C1CC2CCc3sccc3C2=NN1CCCCN1CCN(Cc2ccccc2)CC1</td>\n",
              "      <td>intermediate</td>\n",
              "      <td>436.625</td>\n",
              "      <td>3.8449</td>\n",
              "      <td>0.0</td>\n",
              "      <td>5.0</td>\n",
              "      <td>-3.518514</td>\n",
              "    </tr>\n",
              "  </tbody>\n",
              "</table>\n",
              "<p>3852 rows × 8 columns</p>\n",
              "</div>"
            ],
            "text/plain": [
              "     molecule_chembl_id                                   canonical_smiles  \\\n",
              "0          CHEMBL133897              CCOc1nn(-c2cccc(OCc3ccccc3)c2)c(=O)o1   \n",
              "1          CHEMBL336398         O=C(N1CCCCC1)n1nc(-c2ccc(Cl)cc2)nc1SCC1CC1   \n",
              "2          CHEMBL131588  CN(C(=O)n1nc(-c2ccc(Cl)cc2)nc1SCC(F)(F)F)c1ccccc1   \n",
              "3          CHEMBL130628      O=C(N1CCCCC1)n1nc(-c2ccc(Cl)cc2)nc1SCC(F)(F)F   \n",
              "4          CHEMBL130478          CSc1nc(-c2ccc(OC(F)(F)F)cc2)nn1C(=O)N(C)C   \n",
              "...                 ...                                                ...   \n",
              "3847      CHEMBL5270598         O=C1CC2CCc3ccsc3C2=NN1CN1CCN(Cc2ccccc2)CC1   \n",
              "3848      CHEMBL5285633     O=C1CC2CCCc3ccsc3C2=NN1CCCCN1CCN(Cc2ccccc2)CC1   \n",
              "3849      CHEMBL5283494        O=C1CC2CCc3ccsc3C2=NN1CCN1CCN(Cc2ccccc2)CC1   \n",
              "3850      CHEMBL5283557  O=C1CC2CCc3ccsc3C2=NN1Cc1ccc(CN2CCN(Cc3ccccc3)...   \n",
              "3851      CHEMBL5288465      O=C1CC2CCc3sccc3C2=NN1CCCCN1CCN(Cc2ccccc2)CC1   \n",
              "\n",
              "             class       MW    LogP  NumHDonors  NumHAcceptors     pIC50  \n",
              "0           active  312.325  2.8032         0.0            6.0 -2.963788  \n",
              "1           active  376.913  4.5546         0.0            5.0 -2.954243  \n",
              "2         inactive  426.851  5.3574         0.0            5.0 -4.698970  \n",
              "3           active  404.845  4.7069         0.0            5.0 -3.000000  \n",
              "4           active  346.334  3.0953         0.0            6.0 -2.301030  \n",
              "...            ...      ...     ...         ...            ...       ...  \n",
              "3847  intermediate  394.544  3.0222         0.0            5.0 -3.746634  \n",
              "3848  intermediate  450.652  4.2350         0.0            5.0 -3.615950  \n",
              "3849  intermediate  408.571  3.0647         0.0            5.0 -3.708421  \n",
              "3850  intermediate  484.669  4.7649         0.0            5.0 -3.986772  \n",
              "3851  intermediate  436.625  3.8449         0.0            5.0 -3.518514  \n",
              "\n",
              "[3852 rows x 8 columns]"
            ]
          },
          "execution_count": 63,
          "metadata": {},
          "output_type": "execute_result"
        }
      ],
      "source": [
        "df_final = pIC50(df_norm)\n",
        "df_final"
      ]
    },
    {
      "cell_type": "code",
      "execution_count": 64,
      "metadata": {
        "colab": {
          "base_uri": "https://localhost:8080/",
          "height": 170
        },
        "colab_type": "code",
        "id": "BoqY53udSTYC",
        "outputId": "13f3b5ff-acf5-4136-b8a3-f494066d4824"
      },
      "outputs": [
        {
          "data": {
            "text/plain": [
              "count    3851.000000\n",
              "mean       -3.251187\n",
              "std         1.531877\n",
              "min        -8.000000\n",
              "25%        -4.337259\n",
              "50%        -3.544068\n",
              "75%        -2.313867\n",
              "max         5.000000\n",
              "Name: pIC50, dtype: float64"
            ]
          },
          "execution_count": 64,
          "metadata": {},
          "output_type": "execute_result"
        }
      ],
      "source": [
        "df_final.pIC50.describe()"
      ]
    },
    {
      "cell_type": "markdown",
      "metadata": {
        "colab_type": "text",
        "id": "TTB-xkOcgwRX"
      },
      "source": [
        "Let's write this to CSV file."
      ]
    },
    {
      "cell_type": "code",
      "execution_count": 65,
      "metadata": {
        "colab": {},
        "colab_type": "code",
        "id": "sbZfHUSOgykw"
      },
      "outputs": [],
      "source": [
        "df_final.to_csv('Butyrylcholinesterase_04_bioactivity_data_3class_pIC50.csv')"
      ]
    },
    {
      "cell_type": "markdown",
      "metadata": {
        "colab_type": "text",
        "id": "05vHBWvqaQtb"
      },
      "source": [
        "### **Removing the 'intermediate' bioactivity class**\n",
        "Here, we will be removing the ``intermediate`` class from our data set."
      ]
    },
    {
      "cell_type": "code",
      "execution_count": 66,
      "metadata": {
        "colab": {
          "base_uri": "https://localhost:8080/",
          "height": 419
        },
        "colab_type": "code",
        "id": "HmrndhDW3c7Z",
        "outputId": "dbc2255b-ed9c-460c-c12c-1795a735c9e7"
      },
      "outputs": [
        {
          "data": {
            "text/html": [
              "<div>\n",
              "<style scoped>\n",
              "    .dataframe tbody tr th:only-of-type {\n",
              "        vertical-align: middle;\n",
              "    }\n",
              "\n",
              "    .dataframe tbody tr th {\n",
              "        vertical-align: top;\n",
              "    }\n",
              "\n",
              "    .dataframe thead th {\n",
              "        text-align: right;\n",
              "    }\n",
              "</style>\n",
              "<table border=\"1\" class=\"dataframe\">\n",
              "  <thead>\n",
              "    <tr style=\"text-align: right;\">\n",
              "      <th></th>\n",
              "      <th>molecule_chembl_id</th>\n",
              "      <th>canonical_smiles</th>\n",
              "      <th>class</th>\n",
              "      <th>MW</th>\n",
              "      <th>LogP</th>\n",
              "      <th>NumHDonors</th>\n",
              "      <th>NumHAcceptors</th>\n",
              "      <th>pIC50</th>\n",
              "    </tr>\n",
              "  </thead>\n",
              "  <tbody>\n",
              "    <tr>\n",
              "      <th>0</th>\n",
              "      <td>CHEMBL133897</td>\n",
              "      <td>CCOc1nn(-c2cccc(OCc3ccccc3)c2)c(=O)o1</td>\n",
              "      <td>active</td>\n",
              "      <td>312.325</td>\n",
              "      <td>2.80320</td>\n",
              "      <td>0.0</td>\n",
              "      <td>6.0</td>\n",
              "      <td>-2.963788</td>\n",
              "    </tr>\n",
              "    <tr>\n",
              "      <th>1</th>\n",
              "      <td>CHEMBL336398</td>\n",
              "      <td>O=C(N1CCCCC1)n1nc(-c2ccc(Cl)cc2)nc1SCC1CC1</td>\n",
              "      <td>active</td>\n",
              "      <td>376.913</td>\n",
              "      <td>4.55460</td>\n",
              "      <td>0.0</td>\n",
              "      <td>5.0</td>\n",
              "      <td>-2.954243</td>\n",
              "    </tr>\n",
              "    <tr>\n",
              "      <th>2</th>\n",
              "      <td>CHEMBL131588</td>\n",
              "      <td>CN(C(=O)n1nc(-c2ccc(Cl)cc2)nc1SCC(F)(F)F)c1ccccc1</td>\n",
              "      <td>inactive</td>\n",
              "      <td>426.851</td>\n",
              "      <td>5.35740</td>\n",
              "      <td>0.0</td>\n",
              "      <td>5.0</td>\n",
              "      <td>-4.698970</td>\n",
              "    </tr>\n",
              "    <tr>\n",
              "      <th>3</th>\n",
              "      <td>CHEMBL130628</td>\n",
              "      <td>O=C(N1CCCCC1)n1nc(-c2ccc(Cl)cc2)nc1SCC(F)(F)F</td>\n",
              "      <td>active</td>\n",
              "      <td>404.845</td>\n",
              "      <td>4.70690</td>\n",
              "      <td>0.0</td>\n",
              "      <td>5.0</td>\n",
              "      <td>-3.000000</td>\n",
              "    </tr>\n",
              "    <tr>\n",
              "      <th>4</th>\n",
              "      <td>CHEMBL130478</td>\n",
              "      <td>CSc1nc(-c2ccc(OC(F)(F)F)cc2)nn1C(=O)N(C)C</td>\n",
              "      <td>active</td>\n",
              "      <td>346.334</td>\n",
              "      <td>3.09530</td>\n",
              "      <td>0.0</td>\n",
              "      <td>6.0</td>\n",
              "      <td>-2.301030</td>\n",
              "    </tr>\n",
              "    <tr>\n",
              "      <th>...</th>\n",
              "      <td>...</td>\n",
              "      <td>...</td>\n",
              "      <td>...</td>\n",
              "      <td>...</td>\n",
              "      <td>...</td>\n",
              "      <td>...</td>\n",
              "      <td>...</td>\n",
              "      <td>...</td>\n",
              "    </tr>\n",
              "    <tr>\n",
              "      <th>3835</th>\n",
              "      <td>CHEMBL5282182</td>\n",
              "      <td>CCC(=O)CNC(=O)Nc1nc2ccc(-c3oc4c(OC)c(O)c(O)c(O...</td>\n",
              "      <td>active</td>\n",
              "      <td>515.500</td>\n",
              "      <td>3.30430</td>\n",
              "      <td>5.0</td>\n",
              "      <td>11.0</td>\n",
              "      <td>0.494850</td>\n",
              "    </tr>\n",
              "    <tr>\n",
              "      <th>3836</th>\n",
              "      <td>CHEMBL5286597</td>\n",
              "      <td>CCN(CC)CCCCOc1cc(O)c2c(=O)c(-c3ccc(O)cc3)coc2c1</td>\n",
              "      <td>inactive</td>\n",
              "      <td>397.471</td>\n",
              "      <td>4.37200</td>\n",
              "      <td>2.0</td>\n",
              "      <td>6.0</td>\n",
              "      <td>-5.000000</td>\n",
              "    </tr>\n",
              "    <tr>\n",
              "      <th>3838</th>\n",
              "      <td>CHEMBL5286183</td>\n",
              "      <td>Cc1ccc(NCC[C@@H]2CCCN3CCCC[C@H]23)c2c(=O)c3ccc...</td>\n",
              "      <td>active</td>\n",
              "      <td>406.595</td>\n",
              "      <td>5.78962</td>\n",
              "      <td>1.0</td>\n",
              "      <td>4.0</td>\n",
              "      <td>-2.662758</td>\n",
              "    </tr>\n",
              "    <tr>\n",
              "      <th>3839</th>\n",
              "      <td>CHEMBL5290033</td>\n",
              "      <td>Cc1ccc(NCC[C@@H]2CCCN3CCCC[C@H]23)c2c(=O)c3ccc...</td>\n",
              "      <td>active</td>\n",
              "      <td>390.527</td>\n",
              "      <td>5.32112</td>\n",
              "      <td>1.0</td>\n",
              "      <td>4.0</td>\n",
              "      <td>-2.568202</td>\n",
              "    </tr>\n",
              "    <tr>\n",
              "      <th>3840</th>\n",
              "      <td>CHEMBL5283768</td>\n",
              "      <td>COc1ccc2c(c1)c1c(n2CC(O)CN2c3ccccc3Sc3ccccc32)...</td>\n",
              "      <td>active</td>\n",
              "      <td>471.626</td>\n",
              "      <td>5.30160</td>\n",
              "      <td>1.0</td>\n",
              "      <td>6.0</td>\n",
              "      <td>-2.591065</td>\n",
              "    </tr>\n",
              "  </tbody>\n",
              "</table>\n",
              "<p>2837 rows × 8 columns</p>\n",
              "</div>"
            ],
            "text/plain": [
              "     molecule_chembl_id                                   canonical_smiles  \\\n",
              "0          CHEMBL133897              CCOc1nn(-c2cccc(OCc3ccccc3)c2)c(=O)o1   \n",
              "1          CHEMBL336398         O=C(N1CCCCC1)n1nc(-c2ccc(Cl)cc2)nc1SCC1CC1   \n",
              "2          CHEMBL131588  CN(C(=O)n1nc(-c2ccc(Cl)cc2)nc1SCC(F)(F)F)c1ccccc1   \n",
              "3          CHEMBL130628      O=C(N1CCCCC1)n1nc(-c2ccc(Cl)cc2)nc1SCC(F)(F)F   \n",
              "4          CHEMBL130478          CSc1nc(-c2ccc(OC(F)(F)F)cc2)nn1C(=O)N(C)C   \n",
              "...                 ...                                                ...   \n",
              "3835      CHEMBL5282182  CCC(=O)CNC(=O)Nc1nc2ccc(-c3oc4c(OC)c(O)c(O)c(O...   \n",
              "3836      CHEMBL5286597    CCN(CC)CCCCOc1cc(O)c2c(=O)c(-c3ccc(O)cc3)coc2c1   \n",
              "3838      CHEMBL5286183  Cc1ccc(NCC[C@@H]2CCCN3CCCC[C@H]23)c2c(=O)c3ccc...   \n",
              "3839      CHEMBL5290033  Cc1ccc(NCC[C@@H]2CCCN3CCCC[C@H]23)c2c(=O)c3ccc...   \n",
              "3840      CHEMBL5283768  COc1ccc2c(c1)c1c(n2CC(O)CN2c3ccccc3Sc3ccccc32)...   \n",
              "\n",
              "         class       MW     LogP  NumHDonors  NumHAcceptors     pIC50  \n",
              "0       active  312.325  2.80320         0.0            6.0 -2.963788  \n",
              "1       active  376.913  4.55460         0.0            5.0 -2.954243  \n",
              "2     inactive  426.851  5.35740         0.0            5.0 -4.698970  \n",
              "3       active  404.845  4.70690         0.0            5.0 -3.000000  \n",
              "4       active  346.334  3.09530         0.0            6.0 -2.301030  \n",
              "...        ...      ...      ...         ...            ...       ...  \n",
              "3835    active  515.500  3.30430         5.0           11.0  0.494850  \n",
              "3836  inactive  397.471  4.37200         2.0            6.0 -5.000000  \n",
              "3838    active  406.595  5.78962         1.0            4.0 -2.662758  \n",
              "3839    active  390.527  5.32112         1.0            4.0 -2.568202  \n",
              "3840    active  471.626  5.30160         1.0            6.0 -2.591065  \n",
              "\n",
              "[2837 rows x 8 columns]"
            ]
          },
          "execution_count": 66,
          "metadata": {},
          "output_type": "execute_result"
        }
      ],
      "source": [
        "df_2class = df_final[df_final['class'] != 'intermediate']\n",
        "df_2class"
      ]
    },
    {
      "cell_type": "markdown",
      "metadata": {
        "colab_type": "text",
        "id": "GJGRNXXigd1o"
      },
      "source": [
        "Let's write this to CSV file."
      ]
    },
    {
      "cell_type": "code",
      "execution_count": 67,
      "metadata": {
        "colab": {},
        "colab_type": "code",
        "id": "XIiYdeL5ghCo"
      },
      "outputs": [],
      "source": [
        "df_2class.to_csv('Butyrylcholinesterase_05_bioactivity_data_2class_pIC50.csv')"
      ]
    },
    {
      "cell_type": "markdown",
      "metadata": {
        "colab_type": "text",
        "id": "p9vA4-hQQ8sA"
      },
      "source": [
        "---"
      ]
    },
    {
      "cell_type": "markdown",
      "metadata": {
        "colab_type": "text",
        "id": "x0vqbQWfxsZu"
      },
      "source": [
        "## **Exploratory Data Analysis (Chemical Space Analysis) via Lipinski descriptors**"
      ]
    },
    {
      "cell_type": "markdown",
      "metadata": {
        "colab_type": "text",
        "id": "18heJagiyHoF"
      },
      "source": [
        "### **Import library**"
      ]
    },
    {
      "cell_type": "code",
      "execution_count": 68,
      "metadata": {
        "colab": {
          "base_uri": "https://localhost:8080/",
          "height": 51
        },
        "colab_type": "code",
        "id": "0Egq_rNsxtIj",
        "outputId": "33657ad8-3fcc-41cd-83ab-6f4f8c0a9e84"
      },
      "outputs": [],
      "source": [
        "import seaborn as sns\n",
        "sns.set(style='ticks')\n",
        "import matplotlib.pyplot as plt"
      ]
    },
    {
      "cell_type": "markdown",
      "metadata": {
        "colab_type": "text",
        "id": "NiarmFbOdG3H"
      },
      "source": [
        "### **Frequency plot of the 2 bioactivity classes**"
      ]
    },
    {
      "cell_type": "code",
      "execution_count": 69,
      "metadata": {
        "colab": {
          "base_uri": "https://localhost:8080/",
          "height": 367
        },
        "colab_type": "code",
        "id": "w2Ia0iycdMO2",
        "outputId": "fa37bcfd-af06-4e4b-c754-b6fb2b1b4f97"
      },
      "outputs": [
        {
          "data": {
            "image/png": "[encoded data removed]",
            "text/plain": [
              "<Figure size 550x550 with 1 Axes>"
            ]
          },
          "metadata": {},
          "output_type": "display_data"
        }
      ],
      "source": [
        "plt.figure(figsize=(5.5, 5.5))\n",
        "\n",
        "sns.countplot(x='class', data=df_2class, edgecolor='black')\n",
        "\n",
        "plt.xlabel('Bioactivity class', fontsize=14, fontweight='bold')\n",
        "plt.ylabel('Frequency', fontsize=14, fontweight='bold')\n",
        "\n",
        "plt.savefig('plot_bioactivity_class.pdf')"
      ]
    },
    {
      "cell_type": "markdown",
      "metadata": {
        "colab_type": "text",
        "id": "wB68NKVG0j68"
      },
      "source": [
        "### **Scatter plot of MW versus LogP**\n",
        "\n",
        "It can be seen that the 2 bioactivity classes are spanning similar chemical spaces as evident by the scatter plot of MW vs LogP."
      ]
    },
    {
      "cell_type": "code",
      "execution_count": 70,
      "metadata": {
        "colab": {
          "base_uri": "https://localhost:8080/",
          "height": 367
        },
        "colab_type": "code",
        "id": "F79BNwjF0nub",
        "outputId": "a80f9843-848a-4eb0-ff78-e9473d5d2d4b"
      },
      "outputs": [
        {
          "data": {
            "image/png": "[encoded data removed]",
            "text/plain": [
              "<Figure size 550x550 with 1 Axes>"
            ]
          },
          "metadata": {},
          "output_type": "display_data"
        }
      ],
      "source": [
        "plt.figure(figsize=(5.5, 5.5))\n",
        "\n",
        "sns.scatterplot(x='MW', y='LogP', data=df_2class, hue='class', size='pIC50', edgecolor='black', alpha=0.7)\n",
        "\n",
        "plt.xlabel('MW', fontsize=14, fontweight='bold')\n",
        "plt.ylabel('LogP', fontsize=14, fontweight='bold')\n",
        "plt.legend(bbox_to_anchor=(1.05, 1), loc=2, borderaxespad=0)\n",
        "plt.savefig('plot_MW_vs_LogP.pdf')"
      ]
    },
    {
      "cell_type": "markdown",
      "metadata": {
        "colab_type": "text",
        "id": "oLAfyRwHyJfX"
      },
      "source": [
        "### **Box plots**"
      ]
    },
    {
      "cell_type": "markdown",
      "metadata": {
        "colab_type": "text",
        "id": "1n1uIAivyOkY"
      },
      "source": [
        "#### **pIC50 value**"
      ]
    },
    {
      "cell_type": "code",
      "execution_count": 71,
      "metadata": {
        "colab": {
          "base_uri": "https://localhost:8080/",
          "height": 367
        },
        "colab_type": "code",
        "id": "EpPviw0hxue6",
        "outputId": "a6386fee-ae04-4bf0-93cb-c95bcf801432"
      },
      "outputs": [
        {
          "data": {
            "image/png": "[encoded data removed]",
            "text/plain": [
              "<Figure size 550x550 with 1 Axes>"
            ]
          },
          "metadata": {},
          "output_type": "display_data"
        }
      ],
      "source": [
        "plt.figure(figsize=(5.5, 5.5))\n",
        "\n",
        "sns.boxplot(x = 'class', y = 'pIC50', data = df_2class)\n",
        "\n",
        "plt.xlabel('Bioactivity class', fontsize=14, fontweight='bold')\n",
        "plt.ylabel('pIC50 value', fontsize=14, fontweight='bold')\n",
        "\n",
        "plt.savefig('plot_ic50.pdf')"
      ]
    },
    {
      "cell_type": "markdown",
      "metadata": {
        "colab_type": "text",
        "id": "PsOqKyysCZCv"
      },
      "source": [
        "**Statistical analysis | Mann-Whitney U Test**"
      ]
    },
    {
      "cell_type": "code",
      "execution_count": 75,
      "metadata": {
        "colab": {},
        "colab_type": "code",
        "id": "LPdV1vDnWBsh"
      },
      "outputs": [],
      "source": [
        "def mannwhitney(descriptor, verbose=False):\n",
        "  from numpy.random import seed\n",
        "  from numpy.random import randn\n",
        "  from scipy.stats import mannwhitneyu\n",
        "\n",
        "# seed the random number generator\n",
        "  seed(1)\n",
        "\n",
        "# actives and inactives\n",
        "  selection = [descriptor, 'class']\n",
        "  df = df_2class[selection]\n",
        "  active = df[df['class'] == 'active']\n",
        "  active = active[descriptor]\n",
        "\n",
        "  selection = [descriptor, 'class']\n",
        "  df = df_2class[selection]\n",
        "  inactive = df[df['class'] == 'inactive']\n",
        "  inactive = inactive[descriptor]\n",
        "\n",
        "# compare samples\n",
        "  stat, p = mannwhitneyu(active, inactive)\n",
        "  #print('Statistics=%.3f, p=%.3f' % (stat, p))\n",
        "\n",
        "# interpret\n",
        "  alpha = 0.05\n",
        "  if p > alpha:\n",
        "    interpretation = 'Same distribution (fail to reject H0)'\n",
        "  else:\n",
        "    interpretation = 'Different distribution (reject H0)'\n",
        "  \n",
        "  results = pd.DataFrame({'Descriptor':descriptor,\n",
        "                          'Statistics':stat,\n",
        "                          'p':p,\n",
        "                          'alpha':alpha,\n",
        "                          'Interpretation':interpretation}, index=[0])\n",
        "  filename = 'mannwhitneyu_' + descriptor + '.csv'\n",
        "  results.to_csv(filename)\n",
        "\n",
        "  return results"
      ]
    },
    {
      "cell_type": "code",
      "execution_count": 76,
      "metadata": {
        "colab": {
          "base_uri": "https://localhost:8080/",
          "height": 80
        },
        "colab_type": "code",
        "id": "HZmUgOmdYVm5",
        "outputId": "3a9ba656-596c-434a-e52f-5696325cd4e7"
      },
      "outputs": [
        {
          "data": {
            "text/html": [
              "<div>\n",
              "<style scoped>\n",
              "    .dataframe tbody tr th:only-of-type {\n",
              "        vertical-align: middle;\n",
              "    }\n",
              "\n",
              "    .dataframe tbody tr th {\n",
              "        vertical-align: top;\n",
              "    }\n",
              "\n",
              "    .dataframe thead th {\n",
              "        text-align: right;\n",
              "    }\n",
              "</style>\n",
              "<table border=\"1\" class=\"dataframe\">\n",
              "  <thead>\n",
              "    <tr style=\"text-align: right;\">\n",
              "      <th></th>\n",
              "      <th>Descriptor</th>\n",
              "      <th>Statistics</th>\n",
              "      <th>p</th>\n",
              "      <th>alpha</th>\n",
              "      <th>Interpretation</th>\n",
              "    </tr>\n",
              "  </thead>\n",
              "  <tbody>\n",
              "    <tr>\n",
              "      <th>0</th>\n",
              "      <td>pIC50</td>\n",
              "      <td>NaN</td>\n",
              "      <td>NaN</td>\n",
              "      <td>0.05</td>\n",
              "      <td>Different distribution (reject H0)</td>\n",
              "    </tr>\n",
              "  </tbody>\n",
              "</table>\n",
              "</div>"
            ],
            "text/plain": [
              "  Descriptor  Statistics   p  alpha                      Interpretation\n",
              "0      pIC50         NaN NaN   0.05  Different distribution (reject H0)"
            ]
          },
          "execution_count": 76,
          "metadata": {},
          "output_type": "execute_result"
        }
      ],
      "source": [
        "mannwhitney('pIC50')"
      ]
    },
    {
      "cell_type": "markdown",
      "metadata": {
        "colab_type": "text",
        "id": "o2UlCwPmyTBq"
      },
      "source": [
        "#### **MW**"
      ]
    },
    {
      "cell_type": "code",
      "execution_count": 77,
      "metadata": {
        "colab": {
          "base_uri": "https://localhost:8080/",
          "height": 370
        },
        "colab_type": "code",
        "id": "ZNlEEsDEx3m6",
        "outputId": "819f291c-d893-4ff6-f4ca-28b46351e999"
      },
      "outputs": [
        {
          "data": {
            "image/png": "[encoded data removed]",
            "text/plain": [
              "<Figure size 550x550 with 1 Axes>"
            ]
          },
          "metadata": {},
          "output_type": "display_data"
        }
      ],
      "source": [
        "plt.figure(figsize=(5.5, 5.5))\n",
        "\n",
        "sns.boxplot(x = 'class', y = 'MW', data = df_2class)\n",
        "\n",
        "plt.xlabel('Bioactivity class', fontsize=14, fontweight='bold')\n",
        "plt.ylabel('MW', fontsize=14, fontweight='bold')\n",
        "\n",
        "plt.savefig('plot_MW.pdf')"
      ]
    },
    {
      "cell_type": "code",
      "execution_count": 78,
      "metadata": {
        "colab": {
          "base_uri": "https://localhost:8080/",
          "height": 80
        },
        "colab_type": "code",
        "id": "wRl2FvgHYqaG",
        "outputId": "01f76db8-fdaf-40af-9161-888f5065b07b"
      },
      "outputs": [
        {
          "data": {
            "text/html": [
              "<div>\n",
              "<style scoped>\n",
              "    .dataframe tbody tr th:only-of-type {\n",
              "        vertical-align: middle;\n",
              "    }\n",
              "\n",
              "    .dataframe tbody tr th {\n",
              "        vertical-align: top;\n",
              "    }\n",
              "\n",
              "    .dataframe thead th {\n",
              "        text-align: right;\n",
              "    }\n",
              "</style>\n",
              "<table border=\"1\" class=\"dataframe\">\n",
              "  <thead>\n",
              "    <tr style=\"text-align: right;\">\n",
              "      <th></th>\n",
              "      <th>Descriptor</th>\n",
              "      <th>Statistics</th>\n",
              "      <th>p</th>\n",
              "      <th>alpha</th>\n",
              "      <th>Interpretation</th>\n",
              "    </tr>\n",
              "  </thead>\n",
              "  <tbody>\n",
              "    <tr>\n",
              "      <th>0</th>\n",
              "      <td>MW</td>\n",
              "      <td>1376165.5</td>\n",
              "      <td>1.217076e-64</td>\n",
              "      <td>0.05</td>\n",
              "      <td>Different distribution (reject H0)</td>\n",
              "    </tr>\n",
              "  </tbody>\n",
              "</table>\n",
              "</div>"
            ],
            "text/plain": [
              "  Descriptor  Statistics             p  alpha  \\\n",
              "0         MW   1376165.5  1.217076e-64   0.05   \n",
              "\n",
              "                       Interpretation  \n",
              "0  Different distribution (reject H0)  "
            ]
          },
          "execution_count": 78,
          "metadata": {},
          "output_type": "execute_result"
        }
      ],
      "source": [
        "mannwhitney('MW')"
      ]
    },
    {
      "cell_type": "markdown",
      "metadata": {
        "colab_type": "text",
        "id": "z5hyBhGqyc6J"
      },
      "source": [
        "#### **LogP**"
      ]
    },
    {
      "cell_type": "code",
      "execution_count": 79,
      "metadata": {
        "colab": {
          "base_uri": "https://localhost:8080/",
          "height": 367
        },
        "colab_type": "code",
        "id": "liEtkpI4yX9t",
        "outputId": "63ed7b14-b112-44d5-8f0d-8fe017ec0d43"
      },
      "outputs": [
        {
          "data": {
            "image/png": "[encoded data removed]",
            "text/plain": [
              "<Figure size 550x550 with 1 Axes>"
            ]
          },
          "metadata": {},
          "output_type": "display_data"
        }
      ],
      "source": [
        "plt.figure(figsize=(5.5, 5.5))\n",
        "\n",
        "sns.boxplot(x = 'class', y = 'LogP', data = df_2class)\n",
        "\n",
        "plt.xlabel('Bioactivity class', fontsize=14, fontweight='bold')\n",
        "plt.ylabel('LogP', fontsize=14, fontweight='bold')\n",
        "\n",
        "plt.savefig('plot_LogP.pdf')"
      ]
    },
    {
      "cell_type": "markdown",
      "metadata": {
        "colab_type": "text",
        "id": "2KgV5v_oFLXh"
      },
      "source": [
        "**Statistical analysis | Mann-Whitney U Test**"
      ]
    },
    {
      "cell_type": "code",
      "execution_count": 80,
      "metadata": {
        "colab": {
          "base_uri": "https://localhost:8080/",
          "height": 80
        },
        "colab_type": "code",
        "id": "B61UsGMIFLuE",
        "outputId": "3fd097e7-7a4a-4c6e-bc0c-af010caac7b2"
      },
      "outputs": [
        {
          "data": {
            "text/html": [
              "<div>\n",
              "<style scoped>\n",
              "    .dataframe tbody tr th:only-of-type {\n",
              "        vertical-align: middle;\n",
              "    }\n",
              "\n",
              "    .dataframe tbody tr th {\n",
              "        vertical-align: top;\n",
              "    }\n",
              "\n",
              "    .dataframe thead th {\n",
              "        text-align: right;\n",
              "    }\n",
              "</style>\n",
              "<table border=\"1\" class=\"dataframe\">\n",
              "  <thead>\n",
              "    <tr style=\"text-align: right;\">\n",
              "      <th></th>\n",
              "      <th>Descriptor</th>\n",
              "      <th>Statistics</th>\n",
              "      <th>p</th>\n",
              "      <th>alpha</th>\n",
              "      <th>Interpretation</th>\n",
              "    </tr>\n",
              "  </thead>\n",
              "  <tbody>\n",
              "    <tr>\n",
              "      <th>0</th>\n",
              "      <td>LogP</td>\n",
              "      <td>1368582.5</td>\n",
              "      <td>4.277713e-62</td>\n",
              "      <td>0.05</td>\n",
              "      <td>Different distribution (reject H0)</td>\n",
              "    </tr>\n",
              "  </tbody>\n",
              "</table>\n",
              "</div>"
            ],
            "text/plain": [
              "  Descriptor  Statistics             p  alpha  \\\n",
              "0       LogP   1368582.5  4.277713e-62   0.05   \n",
              "\n",
              "                       Interpretation  \n",
              "0  Different distribution (reject H0)  "
            ]
          },
          "execution_count": 80,
          "metadata": {},
          "output_type": "execute_result"
        }
      ],
      "source": [
        "mannwhitney('LogP')"
      ]
    },
    {
      "cell_type": "markdown",
      "metadata": {
        "colab_type": "text",
        "id": "4db7LZLRym2k"
      },
      "source": [
        "#### **NumHDonors**"
      ]
    },
    {
      "cell_type": "code",
      "execution_count": 81,
      "metadata": {
        "colab": {
          "base_uri": "https://localhost:8080/",
          "height": 367
        },
        "colab_type": "code",
        "id": "iru1JPM1yg5A",
        "outputId": "838b8622-b34a-4f93-bec1-9df19fc9f571"
      },
      "outputs": [
        {
          "data": {
            "image/png": "[encoded data removed]",
            "text/plain": [
              "<Figure size 550x550 with 1 Axes>"
            ]
          },
          "metadata": {},
          "output_type": "display_data"
        }
      ],
      "source": [
        "plt.figure(figsize=(5.5, 5.5))\n",
        "\n",
        "sns.boxplot(x = 'class', y = 'NumHDonors', data = df_2class)\n",
        "\n",
        "plt.xlabel('Bioactivity class', fontsize=14, fontweight='bold')\n",
        "plt.ylabel('NumHDonors', fontsize=14, fontweight='bold')\n",
        "\n",
        "plt.savefig('plot_NumHDonors.pdf')"
      ]
    },
    {
      "cell_type": "markdown",
      "metadata": {
        "colab_type": "text",
        "id": "vM5vZWanFe3c"
      },
      "source": [
        "**Statistical analysis | Mann-Whitney U Test**"
      ]
    },
    {
      "cell_type": "code",
      "execution_count": 82,
      "metadata": {
        "colab": {
          "base_uri": "https://localhost:8080/",
          "height": 80
        },
        "colab_type": "code",
        "id": "mS-rOqq7Fd1E",
        "outputId": "d6e88523-ae95-4298-8550-f840fd8b5a36"
      },
      "outputs": [
        {
          "data": {
            "text/html": [
              "<div>\n",
              "<style scoped>\n",
              "    .dataframe tbody tr th:only-of-type {\n",
              "        vertical-align: middle;\n",
              "    }\n",
              "\n",
              "    .dataframe tbody tr th {\n",
              "        vertical-align: top;\n",
              "    }\n",
              "\n",
              "    .dataframe thead th {\n",
              "        text-align: right;\n",
              "    }\n",
              "</style>\n",
              "<table border=\"1\" class=\"dataframe\">\n",
              "  <thead>\n",
              "    <tr style=\"text-align: right;\">\n",
              "      <th></th>\n",
              "      <th>Descriptor</th>\n",
              "      <th>Statistics</th>\n",
              "      <th>p</th>\n",
              "      <th>alpha</th>\n",
              "      <th>Interpretation</th>\n",
              "    </tr>\n",
              "  </thead>\n",
              "  <tbody>\n",
              "    <tr>\n",
              "      <th>0</th>\n",
              "      <td>NumHDonors</td>\n",
              "      <td>1373592.0</td>\n",
              "      <td>1.202007e-68</td>\n",
              "      <td>0.05</td>\n",
              "      <td>Different distribution (reject H0)</td>\n",
              "    </tr>\n",
              "  </tbody>\n",
              "</table>\n",
              "</div>"
            ],
            "text/plain": [
              "   Descriptor  Statistics             p  alpha  \\\n",
              "0  NumHDonors   1373592.0  1.202007e-68   0.05   \n",
              "\n",
              "                       Interpretation  \n",
              "0  Different distribution (reject H0)  "
            ]
          },
          "execution_count": 82,
          "metadata": {},
          "output_type": "execute_result"
        }
      ],
      "source": [
        "mannwhitney('NumHDonors')"
      ]
    },
    {
      "cell_type": "markdown",
      "metadata": {
        "colab_type": "text",
        "id": "yOYQ3QiSyu7-"
      },
      "source": [
        "#### **NumHAcceptors**"
      ]
    },
    {
      "cell_type": "code",
      "execution_count": 83,
      "metadata": {
        "colab": {
          "base_uri": "https://localhost:8080/",
          "height": 367
        },
        "colab_type": "code",
        "id": "yCw6tgNCyxHf",
        "outputId": "3de01d96-1e31-4f95-8084-907f15901106"
      },
      "outputs": [
        {
          "data": {
            "image/png": "[encoded data removed]",
            "text/plain": [
              "<Figure size 550x550 with 1 Axes>"
            ]
          },
          "metadata": {},
          "output_type": "display_data"
        }
      ],
      "source": [
        "plt.figure(figsize=(5.5, 5.5))\n",
        "\n",
        "sns.boxplot(x = 'class', y = 'NumHAcceptors', data = df_2class)\n",
        "\n",
        "plt.xlabel('Bioactivity class', fontsize=14, fontweight='bold')\n",
        "plt.ylabel('NumHAcceptors', fontsize=14, fontweight='bold')\n",
        "\n",
        "plt.savefig('plot_NumHAcceptors.pdf')"
      ]
    },
    {
      "cell_type": "code",
      "execution_count": 84,
      "metadata": {
        "colab": {
          "base_uri": "https://localhost:8080/",
          "height": 80
        },
        "colab_type": "code",
        "id": "NEQoDZctFtGG",
        "outputId": "417d0d17-81f6-438f-dae4-70083b319b85"
      },
      "outputs": [
        {
          "data": {
            "text/html": [
              "<div>\n",
              "<style scoped>\n",
              "    .dataframe tbody tr th:only-of-type {\n",
              "        vertical-align: middle;\n",
              "    }\n",
              "\n",
              "    .dataframe tbody tr th {\n",
              "        vertical-align: top;\n",
              "    }\n",
              "\n",
              "    .dataframe thead th {\n",
              "        text-align: right;\n",
              "    }\n",
              "</style>\n",
              "<table border=\"1\" class=\"dataframe\">\n",
              "  <thead>\n",
              "    <tr style=\"text-align: right;\">\n",
              "      <th></th>\n",
              "      <th>Descriptor</th>\n",
              "      <th>Statistics</th>\n",
              "      <th>p</th>\n",
              "      <th>alpha</th>\n",
              "      <th>Interpretation</th>\n",
              "    </tr>\n",
              "  </thead>\n",
              "  <tbody>\n",
              "    <tr>\n",
              "      <th>0</th>\n",
              "      <td>NumHAcceptors</td>\n",
              "      <td>1089278.5</td>\n",
              "      <td>0.000109</td>\n",
              "      <td>0.05</td>\n",
              "      <td>Different distribution (reject H0)</td>\n",
              "    </tr>\n",
              "  </tbody>\n",
              "</table>\n",
              "</div>"
            ],
            "text/plain": [
              "      Descriptor  Statistics         p  alpha  \\\n",
              "0  NumHAcceptors   1089278.5  0.000109   0.05   \n",
              "\n",
              "                       Interpretation  \n",
              "0  Different distribution (reject H0)  "
            ]
          },
          "execution_count": 84,
          "metadata": {},
          "output_type": "execute_result"
        }
      ],
      "source": [
        "mannwhitney('NumHAcceptors')"
      ]
    },
    {
      "cell_type": "markdown",
      "metadata": {
        "colab_type": "text",
        "id": "p4QjdHVjKYum"
      },
      "source": [
        "#### **Interpretation of Statistical Results**"
      ]
    },
    {
      "cell_type": "markdown",
      "metadata": {
        "colab_type": "text",
        "id": "mSoOBIqfLbDs"
      },
      "source": [
        "##### **Box Plots**\n",
        "\n",
        "###### **pIC50 values**\n",
        "\n",
        "Taking a look at pIC50 values, the **actives** and **inactives** displayed ***statistically significant difference***, which is to be expected since threshold values (``IC50 < 1,000 nM = Actives while IC50 > 10,000 nM = Inactives``, corresponding to ``pIC50 > 6 = Actives and pIC50 < 5 = Inactives``) were used to define actives and inactives.\n",
        "\n",
        "###### **Lipinski's descriptors**\n",
        "\n",
        "All of the 4 Lipinski's descriptors exhibited ***statistically significant difference*** between the **actives** and **inactives**."
      ]
    }
  ],
  "metadata": {
    "colab": {
      "collapsed_sections": [],
      "name": "CDD-ML-Part-2-Exploratory-Data-Analysis-Acetylcholinesterase.ipynb",
      "provenance": []
    },
    "kernelspec": {
      "display_name": "Python 3",
      "name": "python3"
    },
    "language_info": {
      "codemirror_mode": {
        "name": "ipython",
        "version": 3
      },
      "file_extension": ".py",
      "mimetype": "text/x-python",
      "name": "python",
      "nbconvert_exporter": "python",
      "pygments_lexer": "ipython3",
      "version": "3.11.5"
    }
  },
  "nbformat": 4,
  "nbformat_minor": 0
}
